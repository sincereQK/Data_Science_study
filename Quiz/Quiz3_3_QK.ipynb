{
 "cells": [
  {
   "cell_type": "code",
   "execution_count": 10,
   "metadata": {},
   "outputs": [
    {
     "name": "stdout",
     "output_type": "stream",
     "text": [
      "[[0.9]\n",
      " [0.1]\n",
      " [0.8]]\n",
      "[[0.9 0.3 0.4]\n",
      " [0.2 0.8 0.2]\n",
      " [0.1 0.5 0.6]]\n",
      "[[0.3 0.7 0.5]\n",
      " [0.6 0.5 0.2]\n",
      " [0.8 0.1 0.9]]\n",
      "[[1.16]\n",
      " [0.42]\n",
      " [0.62]]\n",
      "[[0.76133271]\n",
      " [0.60348325]\n",
      " [0.65021855]]\n",
      "[[0.97594736]\n",
      " [0.88858496]\n",
      " [1.25461119]]\n",
      "[[0.72630335]\n",
      " [0.70859807]\n",
      " [0.77809706]]\n"
     ]
    }
   ],
   "source": [
    "import numpy as np\n",
    "\n",
    "I = np.array([[0.9],[0.1],[0.8]])\n",
    "Winput_hidden = np.array([[0.9,0.3,0.4],[0.2,0.8,0.2],[0.1,0.5,0.6]])\n",
    "Whidden_output = np.array([[0.3,0.7,0.5],[0.6,0.5,0.2],[0.8,0.1,0.9]])\n",
    "\n",
    "def sigmoid(x):\n",
    "    return 1 / (1 +np.exp(-x))\n",
    "\n",
    "print(I)\n",
    "print(Winput_hidden)\n",
    "print(Whidden_output)\n",
    "\n",
    "Xhidden = np.dot(Winput_hidden, I)\n",
    "print(Xhidden)\n",
    "\n",
    "Ohidden = sigmoid(Xhidden)\n",
    "print(Ohidden)\n",
    "\n",
    "Xoutput = np.dot(Whidden_output, Ohidden)\n",
    "print(Xoutput)\n",
    "\n",
    "Ooutput = sigmoid(Xoutput)\n",
    "print(Ooutput)"
   ]
  },
  {
   "cell_type": "code",
   "execution_count": 1,
   "metadata": {},
   "outputs": [
    {
     "name": "stdout",
     "output_type": "stream",
     "text": [
      "201702986 김민규\n"
     ]
    }
   ],
   "source": [
    "print(\"201702986 김민규\")"
   ]
  }
 ],
 "metadata": {
  "kernelspec": {
   "display_name": "Python 3",
   "language": "python",
   "name": "python3"
  },
  "language_info": {
   "codemirror_mode": {
    "name": "ipython",
    "version": 3
   },
   "file_extension": ".py",
   "mimetype": "text/x-python",
   "name": "python",
   "nbconvert_exporter": "python",
   "pygments_lexer": "ipython3",
   "version": "3.7.6"
  }
 },
 "nbformat": 4,
 "nbformat_minor": 4
}

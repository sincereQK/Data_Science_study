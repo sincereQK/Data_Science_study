{
 "cells": [
  {
   "cell_type": "code",
   "execution_count": 20,
   "metadata": {},
   "outputs": [
    {
     "name": "stdout",
     "output_type": "stream",
     "text": [
      "3 3\n",
      "5\n",
      "5\n",
      "2 10\n"
     ]
    },
    {
     "data": {
      "text/plain": [
       "(2, 10)"
      ]
     },
     "execution_count": 20,
     "metadata": {},
     "output_type": "execute_result"
    }
   ],
   "source": [
    "class Point:\n",
    "    def __init__(self, x, y):\n",
    "        self.x = x\n",
    "        self.y = y\n",
    "        print(self.x, self.y)\n",
    "\n",
    "    def setx(self, x):\n",
    "        self.x = x\n",
    "        print(self.x)\n",
    "    \n",
    "    def sety(self, y):\n",
    "        self.y = y\n",
    "        print(self.y)\n",
    "    \n",
    "    def get(self):\n",
    "        return (self.x, self.y)\n",
    "        \n",
    "    def move(self, dx, dy):\n",
    "        self.x = self.x + dx\n",
    "        self.y = self.y + dy\n",
    "        print(self.x, self.y)\n",
    "        \n",
    "r1 = Point(3,3)\n",
    "r1.setx(5)\n",
    "r1.sety(5)\n",
    "r1.move(-3,5)\n",
    "r1.get()"
   ]
  },
  {
   "cell_type": "code",
   "execution_count": 21,
   "metadata": {},
   "outputs": [
    {
     "name": "stdout",
     "output_type": "stream",
     "text": [
      "201702986 김민규\n"
     ]
    }
   ],
   "source": [
    "print(\"201702986 김민규\")"
   ]
  }
 ],
 "metadata": {
  "kernelspec": {
   "display_name": "Python 3",
   "language": "python",
   "name": "python3"
  },
  "language_info": {
   "codemirror_mode": {
    "name": "ipython",
    "version": 3
   },
   "file_extension": ".py",
   "mimetype": "text/x-python",
   "name": "python",
   "nbconvert_exporter": "python",
   "pygments_lexer": "ipython3",
   "version": "3.7.6"
  }
 },
 "nbformat": 4,
 "nbformat_minor": 4
}

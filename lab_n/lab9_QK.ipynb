{
 "cells": [
  {
   "cell_type": "code",
   "execution_count": 16,
   "metadata": {},
   "outputs": [],
   "source": [
    "#lab9\n",
    "import numpy\n",
    "import scipy.special\n",
    "import matplotlib.pyplot\n",
    "%matplotlib inline"
   ]
  },
  {
   "cell_type": "code",
   "execution_count": 17,
   "metadata": {},
   "outputs": [],
   "source": [
    "class neuralNetwork:\n",
    "    \n",
    "    def __init__(self, inputnodes, hiddennodes1, hiddennodes2, outputnodes, learningrate):\n",
    "        self.inodes = inputnodes\n",
    "        self.hnodes1 = hiddennodes1\n",
    "        self.hnodes2 = hiddennodes2\n",
    "        self.onodes = outputnodes\n",
    "        \n",
    "        self.wi1 = numpy.random.normal(0.0, pow(self.hnodes1, -0.5), (self.hnodes1, self.inodes))\n",
    "        self.w12 = numpy.random.normal(0.0, pow(self.hnodes2, -0.5), (self.hnodes2, self.hnodes1))\n",
    "        self.w2o = numpy.random.normal(0.0, pow(self.onodes, -0.5), (self.onodes, self.hnodes2))\n",
    "        \n",
    "        self.lr = learningrate\n",
    "        \n",
    "        self.activation_function = lambda x: scipy.special.expit(x)\n",
    "        \n",
    "        pass\n",
    "    \n",
    "    def train(self, inputs_list, targets_list):\n",
    "        inputs = numpy.array(inputs_list, ndmin=2).T\n",
    "        targets = numpy.array(targets_list, ndmin=2).T\n",
    "        \n",
    "        hidden_inputs_1 = numpy.dot(self.wi1, inputs)\n",
    "        hidden_outputs_1 = self.activation_function(hidden_inputs_1)\n",
    "        \n",
    "        hidden_inputs_2 = numpy.dot(self.w12, hidden_outputs_1)\n",
    "        hidden_outputs_2 = self.activation_function(hidden_inputs_2)\n",
    "        \n",
    "        final_inputs = numpy.dot(self.w2o, hidden_outputs_2)\n",
    "        final_outputs = self.activation_function(final_inputs)\n",
    "        \n",
    "        output_errors = targets - final_outputs\n",
    "        hidden_errors_2 = numpy.dot(self.w2o.T, output_errors)\n",
    "        hidden_errors_1 = numpy.dot(self.w12.T, hidden_errors_2)\n",
    "        \n",
    "        self.w2o += self.lr * numpy.dot((output_errors * final_outputs * (1.0 - final_outputs)), numpy.transpose(hidden_outputs_2))\n",
    "        \n",
    "        self.w12 += self.lr * numpy.dot((hidden_errors_2 * hidden_outputs_2 * (1.0 - hidden_outputs_2)), numpy.transpose(hidden_outputs_1))\n",
    "        \n",
    "        self.wi1 += self.lr * numpy.dot((hidden_errors_1 * hidden_outputs_1 * (1.0 - hidden_outputs_1)), numpy.transpose(inputs))\n",
    "        \n",
    "        pass\n",
    "    \n",
    "    def query(self, inputs_list):\n",
    "        inputs = numpy.array(inputs_list, ndmin=2).T\n",
    "        \n",
    "        hidden_inputs_1 = numpy.dot(self.wi1, inputs)\n",
    "        hidden_outputs_1 = self.activation_function(hidden_inputs_1)\n",
    "        \n",
    "        hidden_inputs_2 = numpy.dot(self.w12, hidden_outputs_1)\n",
    "        hidden_outputs_2 = self.activation_function(hidden_inputs_2)\n",
    "        \n",
    "        final_inputs = numpy.dot(self.w2o, hidden_outputs_2)\n",
    "        final_outputs = self.activation_function(final_inputs)\n",
    "        \n",
    "        return final_outputs"
   ]
  },
  {
   "cell_type": "code",
   "execution_count": 37,
   "metadata": {},
   "outputs": [],
   "source": [
    "#노드 수 설정\n",
    "input_nodes = 784\n",
    "hidden_nodes1 = 100\n",
    "hidden_nodes2 = 100\n",
    "output_nodes = 10\n",
    "\n",
    "learning_rate = 0.1\n",
    "n = neuralNetwork(input_nodes, hidden_nodes1, hidden_nodes2, output_nodes, learning_rate)"
   ]
  },
  {
   "cell_type": "code",
   "execution_count": 38,
   "metadata": {},
   "outputs": [],
   "source": [
    "#mnist 학습 데이터인 csv 파일을 리스트로 불러오기\n",
    "training_data_file = open(\"mnist_train.csv\",\"r\")\n",
    "training_data_list = training_data_file.readlines()\n",
    "training_data_file.close()"
   ]
  },
  {
   "cell_type": "code",
   "execution_count": 39,
   "metadata": {},
   "outputs": [],
   "source": [
    "#신경망 학습시키기\n",
    "\n",
    "epochs = 5\n",
    "\n",
    "for e in range(epochs):\n",
    "    #학습 데이터 모음 내의 모든 레코드 탐색\n",
    "    for record in training_data_list:\n",
    "        #레코드를 쉼표에 의해 분리\n",
    "        all_values = record.split(',')\n",
    "        #입력 값의 범위와 값 조정\n",
    "        inputs = (numpy.asfarray(all_values[1:]) / 255.0 * 0.99) + 0.01\n",
    "        #결과 값 생성 (실제 값인 0.99 외에는 모두 0.01)\n",
    "        targets = numpy.zeros(output_nodes) + 0.01\n",
    "        #all_values[0]은 이 레코드에 대한 결과 값\n",
    "        targets[int(all_values[0])] = 0.99\n",
    "        n.train(inputs, targets)\n",
    "        pass\n",
    "pass"
   ]
  },
  {
   "cell_type": "code",
   "execution_count": 40,
   "metadata": {},
   "outputs": [],
   "source": [
    "#mnist 테스트 데이터인 csv 파일을 리스트로 불러오기\n",
    "test_data_file = open(\"mnist_test.csv\",\"r\")\n",
    "test_data_list = test_data_file.readlines()\n",
    "test_data_file.close()"
   ]
  },
  {
   "cell_type": "code",
   "execution_count": 41,
   "metadata": {},
   "outputs": [],
   "source": [
    "#신경망 테스트\n",
    "\n",
    "#신경망의 성능의 지표가 되는 성적표를 아무 값도 가지지 않도록 초기화\n",
    "scorecard = []\n",
    "\n",
    "#테스트 데이터 모음 내의 모든 레코드 탐색\n",
    "for record in test_data_list:\n",
    "    #레코드를 쉼표에 의해 분리\n",
    "    all_values = record.split(',')\n",
    "    #정답은 첫 번째 값\n",
    "    correct_label = int(all_values[0])\n",
    "    #입력 값의 범위와 값 조정\n",
    "    inputs = (numpy.asfarray(all_values[1:]) / 255.0 * 0.99) + 0.01\n",
    "    #신경망에 질의\n",
    "    outputs = n.query(inputs)\n",
    "    #가장 높은 값의 인덱스는 레이블의 인덱스와 일치\n",
    "    label = numpy.argmax(outputs)\n",
    "    #정답 또는 오답을 리스트에 추가\n",
    "    if(label == correct_label):\n",
    "        #정답인 경우 성적표에 1을 더해 줌\n",
    "        scorecard.append(1)\n",
    "    else:\n",
    "        #정답이 아닌 경우 성적표에 0을 더해줌\n",
    "        scorecard.append(0)\n",
    "        pass\n",
    "    pass"
   ]
  },
  {
   "cell_type": "code",
   "execution_count": 42,
   "metadata": {},
   "outputs": [
    {
     "name": "stdout",
     "output_type": "stream",
     "text": [
      "epochs =  5 hidden_nodes1 =  100 hidden_nodes2 100 learning_rate =  0.1 performance =  0.9335\n",
      " KIM Min Gyu\n"
     ]
    }
   ],
   "source": [
    "#정답의 비율인 성적을 계산해 출력\n",
    "scorecard_array = numpy.asarray(scorecard)\n",
    "print(\"epochs = \", epochs,\n",
    "      \"hidden_nodes1 = \", hidden_nodes1, \"hidden_nodes2\", hidden_nodes2,\n",
    "      \"learning_rate = \", learning_rate,\n",
    "      \"performance = \", scorecard_array.sum() / scorecard_array.size)\n",
    "print(\" KIM Min Gyu\")"
   ]
  },
  {
   "cell_type": "code",
   "execution_count": 15,
   "metadata": {
    "scrolled": true
   },
   "outputs": [
    {
     "name": "stdout",
     "output_type": "stream",
     "text": [
      "lab9 김민규 201702986\n"
     ]
    }
   ],
   "source": [
    "print(\"lab9 김민규 201702986\")"
   ]
  },
  {
   "cell_type": "markdown",
   "metadata": {},
   "source": [
    "attempt1\n",
    "epochs =  5 hidden_nodes1 =  100 hidden_nodes2 100 learning_rate =  0.1 performance =  0.9204\n",
    "KIM Min Gyu\n",
    "\n",
    "attempt2\n",
    "epochs =  5 hidden_nodes1 =  100 hidden_nodes2 100 learning_rate =  0.1 performance =  0.9273\n",
    "KIM Min Gyu\n",
    "\n",
    "attempt3\n",
    "epochs =  5 hidden_nodes1 =  100 hidden_nodes2 100 learning_rate =  0.1 performance =  0.9189\n",
    "KIM Min Gyu\n",
    "\n",
    "attempt4\n",
    "epochs =  5 hidden_nodes1 =  100 hidden_nodes2 100 learning_rate =  0.1 performance =  0.9406\n",
    " KIM Min Gyu\n",
    " \n",
    "attempt5\n",
    "epochs =  5 hidden_nodes1 =  100 hidden_nodes2 100 learning_rate =  0.1 performance =  0.9335\n",
    " KIM Min Gyu"
   ]
  },
  {
   "cell_type": "markdown",
   "metadata": {},
   "source": [
    "highest result\n",
    "epochs =  5 hidden_nodes1 =  100 hidden_nodes2 100 learning_rate =  0.1 performance =  0.9406\n",
    " KIM Min Gyu"
   ]
  }
 ],
 "metadata": {
  "kernelspec": {
   "display_name": "Python 3",
   "language": "python",
   "name": "python3"
  },
  "language_info": {
   "codemirror_mode": {
    "name": "ipython",
    "version": 3
   },
   "file_extension": ".py",
   "mimetype": "text/x-python",
   "name": "python",
   "nbconvert_exporter": "python",
   "pygments_lexer": "ipython3",
   "version": "3.7.6"
  }
 },
 "nbformat": 4,
 "nbformat_minor": 4
}

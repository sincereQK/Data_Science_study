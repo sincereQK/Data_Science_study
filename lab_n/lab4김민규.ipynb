{
 "cells": [
  {
   "cell_type": "code",
   "execution_count": 68,
   "metadata": {
    "scrolled": true
   },
   "outputs": [
    {
     "name": "stdout",
     "output_type": "stream",
     "text": [
      "[[22 28]\n",
      " [49 64]]\n"
     ]
    }
   ],
   "source": [
    "import numpy\n",
    "A = np.array([[1,2,3],[4,5,6]])\n",
    "B = np.array([[1,2],[3,4],[5,6]])\n",
    "result = numpy.dot(A,B)\n",
    "print(result)"
   ]
  },
  {
   "cell_type": "code",
   "execution_count": 37,
   "metadata": {
    "scrolled": true
   },
   "outputs": [
    {
     "name": "stdout",
     "output_type": "stream",
     "text": [
      "[[22 28]\n",
      " [49 64]]\n"
     ]
    }
   ],
   "source": [
    "print(A.dot(B))"
   ]
  },
  {
   "cell_type": "code",
   "execution_count": 67,
   "metadata": {},
   "outputs": [
    {
     "name": "stdout",
     "output_type": "stream",
     "text": [
      "[[22, 28], [49, 64]]\n"
     ]
    }
   ],
   "source": [
    "def my_matrix_dot(a,b):\n",
    "  result=[]\n",
    "  result1=[]\n",
    "  while len(a)>0:     \n",
    "    d=0    \n",
    "    a1=a[:1:]    \n",
    "    #print(a1)\n",
    "    c=True\n",
    "    while d<len(a1):\n",
    "      for x in b:\n",
    "        for x1 in x:\n",
    "          #print(\"x1 is\", x1)\n",
    "              #print(\"y1 is\",y1)\n",
    "          result.append(x1*a1[0][d])\n",
    "        d=d+1\n",
    "    a.pop(0)       \n",
    "  result=[result[i:i+len(b[0])] for i in range(0, len(result), len(b[0]))]           \n",
    "  sum=0          \n",
    "  while len(result)>0:  \n",
    "    for X in range(len(result[0])):\n",
    "      for Y in range(len(b)):\n",
    "        sum=sum+result[Y][X]\n",
    "      result1.append(sum)         \n",
    "      sum=0 \n",
    "    for s in range(len(b)):\n",
    "      result.pop(0)      \n",
    "  result1=[result1[i:i+len(b[0])] for i in range(0, len(result1), len(b[0]))] \n",
    "  return (result1)\n",
    "\n",
    "A = [[1,2,3],[4,5,6]]\n",
    "B = [[1,2],[3,4],[5,6]]\n",
    "     \n",
    "print(my_matrix_dot(A,B))"
   ]
  },
  {
   "cell_type": "code",
   "execution_count": 63,
   "metadata": {},
   "outputs": [
    {
     "name": "stdout",
     "output_type": "stream",
     "text": [
      "[[1, 4], [2, 5], [3, 6]]\n",
      "[[1, 3, 5], [2, 4, 6]]\n"
     ]
    }
   ],
   "source": [
    "A = [[1,2,3],[4,5,6]]\n",
    "B = [[1,2],[3,4],[5,6]]\n",
    "def my_matrix_transpose(D):\n",
    "    result = [[element for element in t] for t in zip(*D)]\n",
    "    return result\n",
    "print(my_matrix_transpose(A))\n",
    "print(my_matrix_transpose(B))"
   ]
  },
  {
   "cell_type": "code",
   "execution_count": 64,
   "metadata": {
    "scrolled": true
   },
   "outputs": [
    {
     "name": "stdout",
     "output_type": "stream",
     "text": [
      "[[1 4]\n",
      " [2 5]\n",
      " [3 6]]\n",
      "[[1 3 5]\n",
      " [2 4 6]]\n"
     ]
    }
   ],
   "source": [
    "import numpy\n",
    "A = np.array([[1,2,3],[4,5,6]])\n",
    "B = np.array([[1,2],[3,4],[5,6]])\n",
    "print(np.transpose(A))\n",
    "print(np.transpose(B))"
   ]
  }
 ],
 "metadata": {
  "kernelspec": {
   "display_name": "Python 3",
   "language": "python",
   "name": "python3"
  },
  "language_info": {
   "codemirror_mode": {
    "name": "ipython",
    "version": 3
   },
   "file_extension": ".py",
   "mimetype": "text/x-python",
   "name": "python",
   "nbconvert_exporter": "python",
   "pygments_lexer": "ipython3",
   "version": "3.7.6"
  }
 },
 "nbformat": 4,
 "nbformat_minor": 4
}

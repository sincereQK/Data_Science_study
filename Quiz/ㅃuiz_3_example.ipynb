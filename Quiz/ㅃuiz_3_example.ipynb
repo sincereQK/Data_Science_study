{
  "nbformat": 4,
  "nbformat_minor": 0,
  "metadata": {
    "kernelspec": {
      "display_name": "Python 3",
      "language": "python",
      "name": "python3"
    },
    "language_info": {
      "codemirror_mode": {
        "name": "ipython",
        "version": 3
      },
      "file_extension": ".py",
      "mimetype": "text/x-python",
      "name": "python",
      "nbconvert_exporter": "python",
      "pygments_lexer": "ipython3",
      "version": "3.7.3"
    },
    "colab": {
      "name": "2020quiz3codingexample.ipynb",
      "provenance": []
    }
  },
  "cells": [
    {
      "cell_type": "code",
      "metadata": {
        "id": "eh8bj3bVGRmz",
        "colab_type": "code",
        "colab": {},
        "outputId": "a460da54-9a37-4268-e393-283dd9b5a722"
      },
      "source": [
        "# quiz3.2 solution\n",
        "import numpy as np\n",
        "activation_function=lambda x: 1/(1 + np.exp(-x))\n",
        "\n",
        "input=np.array([1.0,0.5], ndmin=2).T\n",
        "print(\"input.T\\n\", input)\n",
        "\n",
        "Winput_output=np.array([[0.9,0.3],[0.2,0.8]])\n",
        "print(\"Winput_output\\n\", Winput_output)\n",
        "\n",
        "Xoutput=np.dot(Winput_output,input)\n",
        "print(\"Xoutput\\n\", Xoutput)\n",
        "\n",
        "output=activation_function(Xoutput)\n",
        "print(\"output\\n\", output)"
      ],
      "execution_count": null,
      "outputs": [
        {
          "output_type": "stream",
          "text": [
            "input.T\n",
            " [[1. ]\n",
            " [0.5]]\n",
            "Winput_output\n",
            " [[0.9 0.3]\n",
            " [0.2 0.8]]\n",
            "Xoutput\n",
            " [[1.05]\n",
            " [0.6 ]]\n",
            "output\n",
            " [[0.7407749 ]\n",
            " [0.64565631]]\n"
          ],
          "name": "stdout"
        }
      ]
    },
    {
      "cell_type": "code",
      "metadata": {
        "id": "zSr2rh8yGRm4",
        "colab_type": "code",
        "colab": {},
        "outputId": "1ed4584a-e787-4630-9b9f-798ea789f589"
      },
      "source": [
        "# quiz3.3 solution\n",
        "import numpy as np\n",
        "activation_function=lambda x: 1/(1 + np.exp(-x))\n",
        "\n",
        "Winput_hidden=np.matrix([[0.9,0.3,0.4],[0.2,0.8,0.2],[0.1,0.5,0.6]])\n",
        "print(\"Winput_hidden\\n\", Winput_hidden)\n",
        "\n",
        "Whidden_output=np.matrix([[0.3,0.7,0.5],[0.6,0.5,0.2],[0.8,0.1,0.9]])\n",
        "print(\"Whidden_output\\n\", Whidden_output)\n",
        "\n",
        "input=np.array([0.9,0.1,0.8], ndmin=2).T\n",
        "print(\"input.T\\n\", input)\n",
        "\n",
        "Xhidden=np.dot(Winput_hidden,input)\n",
        "print(\"Xhidden\\n\", Xhidden)\n",
        "\n",
        "Ohidden=activation_function(Xhidden)\n",
        "print(\"Ohidden\\n\", Ohidden)\n",
        "\n",
        "Xoutput=np.dot(Whidden_output,Ohidden)\n",
        "print(\"Xoutput\\n\", Xoutput)\n",
        "\n",
        "output=activation_function(Xoutput)\n",
        "print(\"output\\n\", output)"
      ],
      "execution_count": null,
      "outputs": [
        {
          "output_type": "stream",
          "text": [
            "Winput_hidden\n",
            " [[0.9 0.3 0.4]\n",
            " [0.2 0.8 0.2]\n",
            " [0.1 0.5 0.6]]\n",
            "Whidden_output\n",
            " [[0.3 0.7 0.5]\n",
            " [0.6 0.5 0.2]\n",
            " [0.8 0.1 0.9]]\n",
            "input.T\n",
            " [[0.9]\n",
            " [0.1]\n",
            " [0.8]]\n",
            "Xhidden\n",
            " [[1.16]\n",
            " [0.42]\n",
            " [0.62]]\n",
            "Ohidden\n",
            " [[0.76133271]\n",
            " [0.60348325]\n",
            " [0.65021855]]\n",
            "Xoutput\n",
            " [[0.97594736]\n",
            " [0.88858496]\n",
            " [1.25461119]]\n",
            "output\n",
            " [[0.72630335]\n",
            " [0.70859807]\n",
            " [0.77809706]]\n"
          ],
          "name": "stdout"
        }
      ]
    }
  ]
}

{
 "cells": [
  {
   "cell_type": "code",
   "execution_count": 22,
   "metadata": {},
   "outputs": [],
   "source": [
    "import scipy.special \n",
    "#수치적분 루틴과 미분방정식 해석기, 방정식의 근을 구하는 알고리즘, 표준 연속/이산 확률분포와 다양한 통계관련 도구 등을 제공\n",
    "import numpy\n",
    "\n",
    "class neuralNetwork:\n",
    "    \n",
    "    #신경망 초기화\n",
    "    def __init__(self, inputnodes, hiddennodes, outputnodes, learningrate):\n",
    "        #입력 은닉 출력 계층의 노드 개수 설정\n",
    "        self.inodes = inputnodes\n",
    "        self.hnodes = hiddennodes\n",
    "        self.onodes = outputnodes\n",
    "        \n",
    "        #가중치 행렬 wih와 who\n",
    "        #배열 내 가중치는 w_i_j로 표기 : 노드 i 에서 다음 계층의 노드 j 로 연결됨을 의미\n",
    "        #self.wih = (numpy.random.rand(self.hnodes, self.inodes) - 0.5)\n",
    "        #self.who = (numpy.random.rand(self.onodes, self.hnodes) - 0.5)\n",
    "        #정교한 가중치\n",
    "        self.wih = numpy.random.normal(0.0, pow(self.hnodes, -0.5), (self.onodes, self.inodes))\n",
    "        self.who = numpy.random.normal(0.0, pow(self.onodes, -0.5), (self.onodes, self.hnodes))\n",
    "        \n",
    "        #학습률\n",
    "        self.lr = learningrate\n",
    "        \n",
    "        #황성화 함수로는 시그모이드 함수를 이용\n",
    "        self.activation_function = lambda x: scipy.special.expit(x)\n",
    "        \n",
    "        pass\n",
    "    \n",
    "    #신경망 학습시키키 : 학습 데이터들을 통해 학습하고 이에 따라 가중치를 업데이트\n",
    "    def train(self, inputs_list, targets_list):\n",
    "        inputs = numpy.array(inputs_list, ndmin=2).T\n",
    "        targets = numpy.array(targets_list, ndmin=2).T\n",
    "        \n",
    "        hidden_inputs = numpy.dot(self.wih, inputs)\n",
    "        hidden_outputs = self.activation_function(hidden_inputs)\n",
    "        \n",
    "        final_inputs = numpy.dot(self.who, hidden_outputs)\n",
    "        final_outputs = self.activation_function(final_inputs)\n",
    "        \n",
    "        #은닉 계층의 오차 (실제 값 - 계산 값)\n",
    "        output_errors = targets - final_outputs\n",
    "        #은닉 계층의 오차는 가중치에 의해 나뉜 출력 계층의 오차들을 재조립해 계산\n",
    "        hidden_errors = numpy.dot(self.who.T, output_errors)\n",
    "        \n",
    "        #은닉 계층과 출력 계층 간의 가중치 업데이트\n",
    "        self.who += self.lr * numpy.dot((output_errors * final_outputs * (1.0 - final_outputs)), numpy.transpose(hidden_outputs))\n",
    "        #입력 계층과 은닉 계층 간의 가중치 업데이트\n",
    "        self.wih += self.lr * numpy.dot((hidden_errors * hidden_outputs * (1.0 - hidden_outputs)), numpy.transpose(inputs))\n",
    "        \n",
    "        pass\n",
    "    \n",
    "    #신경망 질의 : 입력을 받아 연산 후 출력 노드에서 답을 전달\n",
    "    def query(self, inputs_list):\n",
    "        #입력 리스트를 2차원 행렬로 변환\n",
    "        inputs = numpy.array(inputs_list, ndmin=2).T\n",
    "        \n",
    "        #은닉 계층으로 들어오는 신호\n",
    "        hidden_inputs = numpy.dot(self.wih, inputs)\n",
    "        #은닉 계층의 출력\n",
    "        hidden_outputs = self.activation_function(hidden_inputs)\n",
    "        #최종 출력 계층으로 들어가는 신호\n",
    "        final_inputs = numpy.dot(self.who, hidden_outputs)\n",
    "        #최총 출력 계층의 출력\n",
    "        final_outputs = self.activation_function(final_inputs)\n",
    "        \n",
    "        return final_outputs"
   ]
  },
  {
   "cell_type": "code",
   "execution_count": 23,
   "metadata": {},
   "outputs": [],
   "source": [
    "input_nodes = 3\n",
    "hidden_nodes = 3\n",
    "output_nodes = 3\n",
    "\n",
    "learningrate = 0.3\n",
    "n = neuralNetwork(input_nodes, hidden_nodes, output_nodes, learningrate)"
   ]
  },
  {
   "cell_type": "code",
   "execution_count": 24,
   "metadata": {},
   "outputs": [
    {
     "data": {
      "text/plain": [
       "array([[ 0.48630645,  0.49101581,  0.41683392],\n",
       "       [-0.20426153, -0.49170727, -0.34575038],\n",
       "       [ 0.44902653,  0.45536212, -0.12266264]])"
      ]
     },
     "execution_count": 24,
     "metadata": {},
     "output_type": "execute_result"
    }
   ],
   "source": [
    "import numpy\n",
    "numpy.random.rand(3,3) - 0.5"
   ]
  },
  {
   "cell_type": "code",
   "execution_count": 25,
   "metadata": {},
   "outputs": [
    {
     "data": {
      "text/plain": [
       "array([[0.28598513],\n",
       "       [0.31599153],\n",
       "       [0.45308008]])"
      ]
     },
     "execution_count": 25,
     "metadata": {},
     "output_type": "execute_result"
    }
   ],
   "source": [
    "n.query([1.0,0.5,-1.5])"
   ]
  },
  {
   "cell_type": "code",
   "execution_count": 26,
   "metadata": {},
   "outputs": [
    {
     "name": "stdout",
     "output_type": "stream",
     "text": [
      "201702986 김민규\n"
     ]
    }
   ],
   "source": [
    "print(\"201702986 김민규\")"
   ]
  }
 ],
 "metadata": {
  "kernelspec": {
   "display_name": "Python 3",
   "language": "python",
   "name": "python3"
  },
  "language_info": {
   "codemirror_mode": {
    "name": "ipython",
    "version": 3
   },
   "file_extension": ".py",
   "mimetype": "text/x-python",
   "name": "python",
   "nbconvert_exporter": "python",
   "pygments_lexer": "ipython3",
   "version": "3.7.6"
  }
 },
 "nbformat": 4,
 "nbformat_minor": 4
}

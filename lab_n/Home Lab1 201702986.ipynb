{
 "cells": [
  {
   "cell_type": "code",
   "execution_count": 1,
   "metadata": {
    "scrolled": true
   },
   "outputs": [
    {
     "name": "stdout",
     "output_type": "stream",
     "text": [
      "['apple', 'banna', 'coconut', 'orange', 'pineapple', 'kim', 'lee', 'park', 'choi', 'jung', 'Seoul', 'Incheon', 'Busan', 'Daegu', 'Gwangju']\n"
     ]
    }
   ],
   "source": [
    "fruit = ['apple', 'banna', 'coconut', 'orange', 'pineapple']\n",
    "name =  ['kim', 'lee', 'park', 'choi', 'jung']\n",
    "region = ['Seoul', 'Incheon', 'Busan', 'Daegu', 'Gwangju']\n",
    "list1 = fruit + name + region\n",
    "print(list1)"
   ]
  },
  {
   "cell_type": "code",
   "execution_count": 2,
   "metadata": {
    "scrolled": false
   },
   "outputs": [
    {
     "name": "stdout",
     "output_type": "stream",
     "text": [
      "1 : apple\n",
      "2 : banna\n",
      "3 : coconut\n",
      "4 : orange\n",
      "5 : pineapple\n",
      "6 : kim\n",
      "7 : lee\n",
      "8 : park\n",
      "9 : choi\n",
      "10 : jung\n",
      "11 : Seoul\n",
      "12 : Incheon\n",
      "13 : Busan\n",
      "14 : Daegu\n",
      "15 : Gwangju\n"
     ]
    }
   ],
   "source": [
    "for i in range(1,len(list1)+1):\n",
    "    print(i, ':', list1[i-1])"
   ]
  },
  {
   "cell_type": "code",
   "execution_count": 3,
   "metadata": {},
   "outputs": [],
   "source": [
    "import csv\n",
    "f = open('lab1.csv', 'w', newline='')\n",
    "csvWriter = csv.writer(f)\n",
    "csvWriter.writerow(fruit)\n",
    "csvWriter.writerow(name)\n",
    "csvWriter.writerow(region)\n",
    "f.close()"
   ]
  }
 ],
 "metadata": {
  "kernelspec": {
   "display_name": "Python 3",
   "language": "python",
   "name": "python3"
  },
  "language_info": {
   "codemirror_mode": {
    "name": "ipython",
    "version": 3
   },
   "file_extension": ".py",
   "mimetype": "text/x-python",
   "name": "python",
   "nbconvert_exporter": "python",
   "pygments_lexer": "ipython3",
   "version": "3.7.6"
  }
 },
 "nbformat": 4,
 "nbformat_minor": 4
}

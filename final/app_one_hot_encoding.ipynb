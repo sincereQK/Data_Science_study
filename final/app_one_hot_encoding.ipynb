{
  "nbformat": 4,
  "nbformat_minor": 0,
  "metadata": {
    "kernelspec": {
      "display_name": "Python 3",
      "language": "python",
      "name": "python3"
    },
    "language_info": {
      "codemirror_mode": {
        "name": "ipython",
        "version": 3
      },
      "file_extension": ".py",
      "mimetype": "text/x-python",
      "name": "python",
      "nbconvert_exporter": "python",
      "pygments_lexer": "ipython3",
      "version": "3.6.6"
    },
    "colab": {
      "name": "app_one_hot_encoding.ipynb",
      "provenance": [],
      "collapsed_sections": []
    }
  },
  "cells": [
    {
      "cell_type": "markdown",
      "metadata": {
        "id": "L1MU-V5BsSwV",
        "colab_type": "text"
      },
      "source": [
        "첫번째 프로젝트의 진행에서 KNN모델과 랜덤포레스트 모델들을 이용하여 머신러닝을 진행하였습니다.\n",
        "\n",
        "다만 정확도가 계속해서 좋지 못해서 새로운 데이터 셋으로 진행을 하였습니다.\n",
        "\n",
        "이전 데이터 셋에서는 정수인코딩을 이용하여 데이터셋을 정리 하였습니다.\n",
        "\n",
        "이번에는 원핫인코딩(더미인코딩)을 이용하여 데이터셋을 정리할 것입니다."
      ]
    },
    {
      "cell_type": "code",
      "metadata": {
        "_cell_guid": "79c7e3d0-c299-4dcb-8224-4455121ee9b0",
        "_uuid": "d629ff2d2480ee46fbb7e2d37f6b5fab8052498a",
        "id": "NBLaZytFKUZw",
        "colab_type": "code",
        "colab": {}
      },
      "source": [
        "import re\n",
        "import sys\n",
        "\n",
        "import time\n",
        "import datetime\n",
        "\n",
        "import numpy as np\n",
        "import pandas as pd\n",
        "\n",
        "import seaborn as sns\n",
        "import matplotlib.pyplot as plt\n",
        "\n",
        "from sklearn import metrics\n",
        "from sklearn import preprocessing\n",
        "from sklearn.neighbors import KNeighborsRegressor\n",
        "from sklearn.ensemble import RandomForestRegressor\n",
        "from sklearn.model_selection import train_test_split\n",
        "\n",
        "%matplotlib inline"
      ],
      "execution_count": 143,
      "outputs": []
    },
    {
      "cell_type": "code",
      "metadata": {
        "id": "ik0hXx55qrBi",
        "colab_type": "code",
        "colab": {}
      },
      "source": [
        "# Loading the data\n",
        "#df = pd.read_csv('../input/googleplaystore.csv')\n",
        "#df = pd.read_csv('drive/My Drive/Colab Notebooks/google_play_app_rating/googleplaystore.csv')\n",
        "df = pd.read_csv('googleplaystore.csv')"
      ],
      "execution_count": 144,
      "outputs": []
    },
    {
      "cell_type": "code",
      "metadata": {
        "_uuid": "2068b367a50157fbefeff3b44046a41a344b9ecc",
        "id": "jm6yy5nAKUZ1",
        "colab_type": "code",
        "colab": {}
      },
      "source": [
        "sns.set(style='darkgrid')\n",
        "sns.set_palette('PuBuGn_d')"
      ],
      "execution_count": 145,
      "outputs": []
    },
    {
      "cell_type": "markdown",
      "metadata": {
        "_uuid": "349b8414dbdc6f0a41ce89d838b711927ffef552",
        "id": "cf8Fh9qdKUZ3",
        "colab_type": "text"
      },
      "source": [
        "# Data Exploration and Cleaning"
      ]
    },
    {
      "cell_type": "code",
      "metadata": {
        "_uuid": "3da24a5c41129bf404fb5904b57f1a261b5ba7b0",
        "id": "lLnqG5WnKUZ4",
        "colab_type": "code",
        "colab": {
          "base_uri": "https://localhost:8080/",
          "height": 363
        },
        "outputId": "a0d497e7-e049-41a6-c5c5-87e47355e55b"
      },
      "source": [
        "df.head()"
      ],
      "execution_count": 146,
      "outputs": [
        {
          "output_type": "execute_result",
          "data": {
            "text/html": [
              "<div>\n",
              "<style scoped>\n",
              "    .dataframe tbody tr th:only-of-type {\n",
              "        vertical-align: middle;\n",
              "    }\n",
              "\n",
              "    .dataframe tbody tr th {\n",
              "        vertical-align: top;\n",
              "    }\n",
              "\n",
              "    .dataframe thead th {\n",
              "        text-align: right;\n",
              "    }\n",
              "</style>\n",
              "<table border=\"1\" class=\"dataframe\">\n",
              "  <thead>\n",
              "    <tr style=\"text-align: right;\">\n",
              "      <th></th>\n",
              "      <th>App</th>\n",
              "      <th>Category</th>\n",
              "      <th>Rating</th>\n",
              "      <th>Reviews</th>\n",
              "      <th>Size</th>\n",
              "      <th>Installs</th>\n",
              "      <th>Type</th>\n",
              "      <th>Price</th>\n",
              "      <th>Content Rating</th>\n",
              "      <th>Genres</th>\n",
              "      <th>Last Updated</th>\n",
              "      <th>Current Ver</th>\n",
              "      <th>Android Ver</th>\n",
              "    </tr>\n",
              "  </thead>\n",
              "  <tbody>\n",
              "    <tr>\n",
              "      <th>0</th>\n",
              "      <td>Photo Editor &amp; Candy Camera &amp; Grid &amp; ScrapBook</td>\n",
              "      <td>ART_AND_DESIGN</td>\n",
              "      <td>4.1</td>\n",
              "      <td>159</td>\n",
              "      <td>19M</td>\n",
              "      <td>10,000+</td>\n",
              "      <td>Free</td>\n",
              "      <td>0</td>\n",
              "      <td>Everyone</td>\n",
              "      <td>Art &amp; Design</td>\n",
              "      <td>January 7, 2018</td>\n",
              "      <td>1.0.0</td>\n",
              "      <td>4.0.3 and up</td>\n",
              "    </tr>\n",
              "    <tr>\n",
              "      <th>1</th>\n",
              "      <td>Coloring book moana</td>\n",
              "      <td>ART_AND_DESIGN</td>\n",
              "      <td>3.9</td>\n",
              "      <td>967</td>\n",
              "      <td>14M</td>\n",
              "      <td>500,000+</td>\n",
              "      <td>Free</td>\n",
              "      <td>0</td>\n",
              "      <td>Everyone</td>\n",
              "      <td>Art &amp; Design;Pretend Play</td>\n",
              "      <td>January 15, 2018</td>\n",
              "      <td>2.0.0</td>\n",
              "      <td>4.0.3 and up</td>\n",
              "    </tr>\n",
              "    <tr>\n",
              "      <th>2</th>\n",
              "      <td>U Launcher Lite – FREE Live Cool Themes, Hide ...</td>\n",
              "      <td>ART_AND_DESIGN</td>\n",
              "      <td>4.7</td>\n",
              "      <td>87510</td>\n",
              "      <td>8.7M</td>\n",
              "      <td>5,000,000+</td>\n",
              "      <td>Free</td>\n",
              "      <td>0</td>\n",
              "      <td>Everyone</td>\n",
              "      <td>Art &amp; Design</td>\n",
              "      <td>August 1, 2018</td>\n",
              "      <td>1.2.4</td>\n",
              "      <td>4.0.3 and up</td>\n",
              "    </tr>\n",
              "    <tr>\n",
              "      <th>3</th>\n",
              "      <td>Sketch - Draw &amp; Paint</td>\n",
              "      <td>ART_AND_DESIGN</td>\n",
              "      <td>4.5</td>\n",
              "      <td>215644</td>\n",
              "      <td>25M</td>\n",
              "      <td>50,000,000+</td>\n",
              "      <td>Free</td>\n",
              "      <td>0</td>\n",
              "      <td>Teen</td>\n",
              "      <td>Art &amp; Design</td>\n",
              "      <td>June 8, 2018</td>\n",
              "      <td>Varies with device</td>\n",
              "      <td>4.2 and up</td>\n",
              "    </tr>\n",
              "    <tr>\n",
              "      <th>4</th>\n",
              "      <td>Pixel Draw - Number Art Coloring Book</td>\n",
              "      <td>ART_AND_DESIGN</td>\n",
              "      <td>4.3</td>\n",
              "      <td>967</td>\n",
              "      <td>2.8M</td>\n",
              "      <td>100,000+</td>\n",
              "      <td>Free</td>\n",
              "      <td>0</td>\n",
              "      <td>Everyone</td>\n",
              "      <td>Art &amp; Design;Creativity</td>\n",
              "      <td>June 20, 2018</td>\n",
              "      <td>1.1</td>\n",
              "      <td>4.4 and up</td>\n",
              "    </tr>\n",
              "  </tbody>\n",
              "</table>\n",
              "</div>"
            ],
            "text/plain": [
              "                                                 App  ...   Android Ver\n",
              "0     Photo Editor & Candy Camera & Grid & ScrapBook  ...  4.0.3 and up\n",
              "1                                Coloring book moana  ...  4.0.3 and up\n",
              "2  U Launcher Lite – FREE Live Cool Themes, Hide ...  ...  4.0.3 and up\n",
              "3                              Sketch - Draw & Paint  ...    4.2 and up\n",
              "4              Pixel Draw - Number Art Coloring Book  ...    4.4 and up\n",
              "\n",
              "[5 rows x 13 columns]"
            ]
          },
          "metadata": {
            "tags": []
          },
          "execution_count": 146
        }
      ]
    },
    {
      "cell_type": "code",
      "metadata": {
        "_uuid": "735b233c0d2ba4a6b85937afbb244001789a581c",
        "id": "3SjTst7jKUZ6",
        "colab_type": "code",
        "colab": {
          "base_uri": "https://localhost:8080/",
          "height": 369
        },
        "outputId": "ce5bda62-d679-46e8-a8d5-315554b26107"
      },
      "source": [
        "df.info()"
      ],
      "execution_count": 147,
      "outputs": [
        {
          "output_type": "stream",
          "text": [
            "<class 'pandas.core.frame.DataFrame'>\n",
            "RangeIndex: 10841 entries, 0 to 10840\n",
            "Data columns (total 13 columns):\n",
            " #   Column          Non-Null Count  Dtype  \n",
            "---  ------          --------------  -----  \n",
            " 0   App             10841 non-null  object \n",
            " 1   Category        10841 non-null  object \n",
            " 2   Rating          9367 non-null   float64\n",
            " 3   Reviews         10841 non-null  object \n",
            " 4   Size            10841 non-null  object \n",
            " 5   Installs        10841 non-null  object \n",
            " 6   Type            10840 non-null  object \n",
            " 7   Price           10841 non-null  object \n",
            " 8   Content Rating  10840 non-null  object \n",
            " 9   Genres          10841 non-null  object \n",
            " 10  Last Updated    10841 non-null  object \n",
            " 11  Current Ver     10833 non-null  object \n",
            " 12  Android Ver     10838 non-null  object \n",
            "dtypes: float64(1), object(12)\n",
            "memory usage: 1.1+ MB\n"
          ],
          "name": "stdout"
        }
      ]
    },
    {
      "cell_type": "code",
      "metadata": {
        "_uuid": "576aa2b905b02dcdf40c3f8ecf34691f003641ed",
        "id": "va_7yWZFKUZ9",
        "colab_type": "code",
        "colab": {
          "base_uri": "https://localhost:8080/",
          "height": 646
        },
        "outputId": "5dbb2f6b-a962-42f8-c1e9-20b087d16b56"
      },
      "source": [
        "# Exploring missing data and checking if any has NaN values\n",
        "plt.figure(figsize=(7, 5))\n",
        "sns.heatmap(df.isnull(), cmap='viridis')\n",
        "df.isnull().any()"
      ],
      "execution_count": 148,
      "outputs": [
        {
          "output_type": "execute_result",
          "data": {
            "text/plain": [
              "App               False\n",
              "Category          False\n",
              "Rating             True\n",
              "Reviews           False\n",
              "Size              False\n",
              "Installs          False\n",
              "Type               True\n",
              "Price             False\n",
              "Content Rating     True\n",
              "Genres            False\n",
              "Last Updated      False\n",
              "Current Ver        True\n",
              "Android Ver        True\n",
              "dtype: bool"
            ]
          },
          "metadata": {
            "tags": []
          },
          "execution_count": 148
        },
        {
          "output_type": "display_data",
          "data": {
            "image/png": "[encoded data removed]",
            "text/plain": [
              "<Figure size 504x360 with 2 Axes>"
            ]
          },
          "metadata": {
            "tags": []
          }
        }
      ]
    },
    {
      "cell_type": "code",
      "metadata": {
        "_uuid": "a1b4306e7e8ba1a972dc4a705cf4456745f3a5e2",
        "id": "OzVbRuqcKUaA",
        "colab_type": "code",
        "colab": {
          "base_uri": "https://localhost:8080/",
          "height": 263
        },
        "outputId": "b8be0024-dd3e-4260-be77-d66290f398f1"
      },
      "source": [
        "df.isnull().sum()"
      ],
      "execution_count": 149,
      "outputs": [
        {
          "output_type": "execute_result",
          "data": {
            "text/plain": [
              "App                  0\n",
              "Category             0\n",
              "Rating            1474\n",
              "Reviews              0\n",
              "Size                 0\n",
              "Installs             0\n",
              "Type                 1\n",
              "Price                0\n",
              "Content Rating       1\n",
              "Genres               0\n",
              "Last Updated         0\n",
              "Current Ver          8\n",
              "Android Ver          3\n",
              "dtype: int64"
            ]
          },
          "metadata": {
            "tags": []
          },
          "execution_count": 149
        }
      ]
    },
    {
      "cell_type": "markdown",
      "metadata": {
        "_uuid": "9ee9d3893b22d1239ebf94af342b085780aa8540",
        "id": "AR7IVXMOKUaC",
        "colab_type": "text"
      },
      "source": [
        "이전 데이터셋 비어있는 데이터들을 삭제 하였으나 이번 데이터셋에서는 중간값을 비어있는 곳에 넣어줍니다.\n",
        "\n",
        "또한 비어있는 값들을 채우기전에 문자 혹은 특수문자로 되어있는 데이터들을 정리합니다."
      ]
    },
    {
      "cell_type": "code",
      "metadata": {
        "_uuid": "9d79d2a09533f34ba95e2e2d56de72ec4f0327a5",
        "id": "gYU3X2IyKUaC",
        "colab_type": "code",
        "colab": {}
      },
      "source": [
        "# The best way to fill missing values might be using the median instead of mean.\n",
        "df['Rating'] = df['Rating'].fillna(df['Rating'].median())\n",
        "\n",
        "# Before filling null values we have to clean all non numerical values & unicode charachters \n",
        "replaces = [u'\\u00AE', u'\\u2013', u'\\u00C3', u'\\u00E3', u'\\u00B3', '[', ']', \"'\"]\n",
        "for i in replaces:\n",
        "\tdf['Current Ver'] = df['Current Ver'].astype(str).apply(lambda x : x.replace(i, ''))\n",
        "\n",
        "regex = [r'[-+|/:/;(_)@]', r'\\s+', r'[A-Za-z]+']\n",
        "for j in regex:\n",
        "\tdf['Current Ver'] = df['Current Ver'].astype(str).apply(lambda x : re.sub(j, '0', x))\n",
        "\n",
        "df['Current Ver'] = df['Current Ver'].astype(str).apply(lambda x : x.replace('.', ',',1).replace('.', '').replace(',', '.',1)).astype(float)\n",
        "df['Current Ver'] = df['Current Ver'].fillna(df['Current Ver'].median())"
      ],
      "execution_count": 150,
      "outputs": []
    },
    {
      "cell_type": "markdown",
      "metadata": {
        "id": "cuDWlLaxy_MJ",
        "colab_type": "text"
      },
      "source": [
        "문자형 변수인 카테고리에 어떠한 변수들이 있는지 확인합니다."
      ]
    },
    {
      "cell_type": "code",
      "metadata": {
        "_uuid": "04a542636ef4c49e467e45368ef5f4e40920210a",
        "id": "e7DRPhH3KUaE",
        "colab_type": "code",
        "colab": {
          "base_uri": "https://localhost:8080/",
          "height": 175
        },
        "outputId": "033b1513-df6f-4277-fb42-ee41f2d6cf5d"
      },
      "source": [
        "df['Category'].unique()"
      ],
      "execution_count": 151,
      "outputs": [
        {
          "output_type": "execute_result",
          "data": {
            "text/plain": [
              "array(['ART_AND_DESIGN', 'AUTO_AND_VEHICLES', 'BEAUTY',\n",
              "       'BOOKS_AND_REFERENCE', 'BUSINESS', 'COMICS', 'COMMUNICATION',\n",
              "       'DATING', 'EDUCATION', 'ENTERTAINMENT', 'EVENTS', 'FINANCE',\n",
              "       'FOOD_AND_DRINK', 'HEALTH_AND_FITNESS', 'HOUSE_AND_HOME',\n",
              "       'LIBRARIES_AND_DEMO', 'LIFESTYLE', 'GAME', 'FAMILY', 'MEDICAL',\n",
              "       'SOCIAL', 'SHOPPING', 'PHOTOGRAPHY', 'SPORTS', 'TRAVEL_AND_LOCAL',\n",
              "       'TOOLS', 'PERSONALIZATION', 'PRODUCTIVITY', 'PARENTING', 'WEATHER',\n",
              "       'VIDEO_PLAYERS', 'NEWS_AND_MAGAZINES', 'MAPS_AND_NAVIGATION',\n",
              "       '1.9'], dtype=object)"
            ]
          },
          "metadata": {
            "tags": []
          },
          "execution_count": 151
        }
      ]
    },
    {
      "cell_type": "markdown",
      "metadata": {
        "id": "_AeCxP8nyLBN",
        "colab_type": "text"
      },
      "source": [
        "카테고리 내에서 1.9라는 특이한 변수가 있습니다\n",
        "1.9에 대한 부분만 따로 출력합니다."
      ]
    },
    {
      "cell_type": "code",
      "metadata": {
        "_uuid": "b5ac20b6e1fa3611ffc1fc2b2e552636729f0324",
        "id": "aJDwbaHiKUaG",
        "colab_type": "code",
        "colab": {
          "base_uri": "https://localhost:8080/",
          "height": 110
        },
        "outputId": "ed23923d-dc5e-4277-962c-90e99e05fd26"
      },
      "source": [
        "# Check the record  of unreasonable value which is 1.9\n",
        "i = df[df['Category'] == '1.9'].index\n",
        "df.loc[i]"
      ],
      "execution_count": 152,
      "outputs": [
        {
          "output_type": "execute_result",
          "data": {
            "text/html": [
              "<div>\n",
              "<style scoped>\n",
              "    .dataframe tbody tr th:only-of-type {\n",
              "        vertical-align: middle;\n",
              "    }\n",
              "\n",
              "    .dataframe tbody tr th {\n",
              "        vertical-align: top;\n",
              "    }\n",
              "\n",
              "    .dataframe thead th {\n",
              "        text-align: right;\n",
              "    }\n",
              "</style>\n",
              "<table border=\"1\" class=\"dataframe\">\n",
              "  <thead>\n",
              "    <tr style=\"text-align: right;\">\n",
              "      <th></th>\n",
              "      <th>App</th>\n",
              "      <th>Category</th>\n",
              "      <th>Rating</th>\n",
              "      <th>Reviews</th>\n",
              "      <th>Size</th>\n",
              "      <th>Installs</th>\n",
              "      <th>Type</th>\n",
              "      <th>Price</th>\n",
              "      <th>Content Rating</th>\n",
              "      <th>Genres</th>\n",
              "      <th>Last Updated</th>\n",
              "      <th>Current Ver</th>\n",
              "      <th>Android Ver</th>\n",
              "    </tr>\n",
              "  </thead>\n",
              "  <tbody>\n",
              "    <tr>\n",
              "      <th>10472</th>\n",
              "      <td>Life Made WI-Fi Touchscreen Photo Frame</td>\n",
              "      <td>1.9</td>\n",
              "      <td>19.0</td>\n",
              "      <td>3.0M</td>\n",
              "      <td>1,000+</td>\n",
              "      <td>Free</td>\n",
              "      <td>0</td>\n",
              "      <td>Everyone</td>\n",
              "      <td>NaN</td>\n",
              "      <td>February 11, 2018</td>\n",
              "      <td>1.0.19</td>\n",
              "      <td>4.0</td>\n",
              "      <td>NaN</td>\n",
              "    </tr>\n",
              "  </tbody>\n",
              "</table>\n",
              "</div>"
            ],
            "text/plain": [
              "                                           App  ... Android Ver\n",
              "10472  Life Made WI-Fi Touchscreen Photo Frame  ...         NaN\n",
              "\n",
              "[1 rows x 13 columns]"
            ]
          },
          "metadata": {
            "tags": []
          },
          "execution_count": 152
        }
      ]
    },
    {
      "cell_type": "markdown",
      "metadata": {
        "_uuid": "530ef2300216249e4198c80ab688501f1878a1b4",
        "id": "HYX8oc6eKUaI",
        "colab_type": "text"
      },
      "source": [
        "이 데이터의 경우 맨처음인 앱 이름의 값이 비어있어서 데이터의 값들이 앞으로 당겨진것같습니다.\n",
        "\n",
        "현재 App에 있는 값은 Category로 현재 Category에있는 1.9는 Rating으로 가는 것이 올바른 것으로 보이며 뒤에있는 칼럼들도 마찬가지 입니다.\n",
        "\n",
        "이를 일일히 수정하는 것은 힘드므로 Category = 1.9에 대한 부분을 제거합니다.\n"
      ]
    },
    {
      "cell_type": "code",
      "metadata": {
        "_uuid": "b809813abfaf4bdd82c80f80a5dafc74aed576f2",
        "id": "TSqtbvfvKUaI",
        "colab_type": "code",
        "colab": {}
      },
      "source": [
        "df = df.drop(i)"
      ],
      "execution_count": 153,
      "outputs": []
    },
    {
      "cell_type": "markdown",
      "metadata": {
        "id": "-1DDA6wnymAl",
        "colab_type": "text"
      },
      "source": [
        "추가적으로 Last Updated와 Content Rating에 있는 NaN값을 제거해줍니다."
      ]
    },
    {
      "cell_type": "code",
      "metadata": {
        "_uuid": "1263c3cebbdc8abe1c3758825153cfc8dfcc6742",
        "id": "k3A7ND5sKUaK",
        "colab_type": "code",
        "colab": {}
      },
      "source": [
        "df = df[pd.notnull(df['Last Updated'])]\n",
        "df = df[pd.notnull(df['Content Rating'])]"
      ],
      "execution_count": 154,
      "outputs": []
    },
    {
      "cell_type": "markdown",
      "metadata": {
        "_uuid": "701c768737179ec7d949597382bcf35980ff5f32",
        "id": "wDHACnTqKUaM",
        "colab_type": "text"
      },
      "source": [
        "# Categorical Data Encoding"
      ]
    },
    {
      "cell_type": "markdown",
      "metadata": {
        "_uuid": "bea0c8a5d124a8a3c16be3f2104238f9a6a1f6ac",
        "id": "gTrTrSmiKUaN",
        "colab_type": "text"
      },
      "source": [
        "이제 범주형 변수를 숫자로 바꾸어줍시다."
      ]
    },
    {
      "cell_type": "code",
      "metadata": {
        "_uuid": "08b7abb6432474217a035974c70a488fb86bf3c9",
        "id": "BVJIUEDNKUaN",
        "colab_type": "code",
        "colab": {}
      },
      "source": [
        "# App values encoding\n",
        "le = preprocessing.LabelEncoder()\n",
        "df['App'] = le.fit_transform(df['App'])\n",
        "# This encoder converts the values into numeric values"
      ],
      "execution_count": 155,
      "outputs": []
    },
    {
      "cell_type": "code",
      "metadata": {
        "_uuid": "e7bb75ccd2b7ee3036bf4ba6e403d80ed0ab60b9",
        "id": "G02SF35SKUaP",
        "colab_type": "code",
        "colab": {}
      },
      "source": [
        "# Category features encoding\n",
        "category_list = df['Category'].unique().tolist() \n",
        "category_list = ['cat_' + word for word in category_list]\n",
        "df = pd.concat([df, pd.get_dummies(df['Category'], prefix='cat')], axis=1)"
      ],
      "execution_count": 156,
      "outputs": []
    },
    {
      "cell_type": "code",
      "metadata": {
        "_uuid": "f9a6acc1c827d2a68351fa61720c357be6b60d9a",
        "id": "_4voJcflKUaR",
        "colab_type": "code",
        "colab": {}
      },
      "source": [
        "# Genres features encoding\n",
        "le = preprocessing.LabelEncoder()\n",
        "df['Genres'] = le.fit_transform(df['Genres'])"
      ],
      "execution_count": 157,
      "outputs": []
    },
    {
      "cell_type": "code",
      "metadata": {
        "_uuid": "b6c3c187c5a39f584bf688e04c2380a3e4e0faae",
        "id": "rMOPcZZ7KUaS",
        "colab_type": "code",
        "colab": {}
      },
      "source": [
        "# Encode Content Rating features\n",
        "le = preprocessing.LabelEncoder()\n",
        "df['Content Rating'] = le.fit_transform(df['Content Rating'])"
      ],
      "execution_count": 158,
      "outputs": []
    },
    {
      "cell_type": "code",
      "metadata": {
        "_uuid": "e6b5d46c088714ed7c36bf6a1ea940855f577df2",
        "id": "xyfRVrTyKUaU",
        "colab_type": "code",
        "colab": {}
      },
      "source": [
        "# Price cealning\n",
        "df['Price'] = df['Price'].apply(lambda x : x.strip('$'))"
      ],
      "execution_count": 159,
      "outputs": []
    },
    {
      "cell_type": "code",
      "metadata": {
        "_uuid": "477c75635f893a83e5601e1f42b59d9ab32871ac",
        "id": "AZEk_ljEKUaW",
        "colab_type": "code",
        "colab": {}
      },
      "source": [
        "# Installs cealning\n",
        "df['Installs'] = df['Installs'].apply(lambda x : x.strip('+').replace(',', ''))"
      ],
      "execution_count": 160,
      "outputs": []
    },
    {
      "cell_type": "code",
      "metadata": {
        "_uuid": "0a25b9b01bf8b9d30164b37760a88d196ed6f17a",
        "id": "dxiPorAdKUaY",
        "colab_type": "code",
        "colab": {}
      },
      "source": [
        "# Type encoding\n",
        "df['Type'] = pd.get_dummies(df['Type'])"
      ],
      "execution_count": 161,
      "outputs": []
    },
    {
      "cell_type": "code",
      "metadata": {
        "_uuid": "9c76efe031c2553674c2151604667873da8879f3",
        "id": "xfSXEAHBKUaa",
        "colab_type": "code",
        "colab": {}
      },
      "source": [
        "# Last Updated encoding\n",
        "df['Last Updated'] = df['Last Updated'].apply(lambda x : time.mktime(datetime.datetime.strptime(x, '%B %d, %Y').timetuple()))"
      ],
      "execution_count": 162,
      "outputs": []
    },
    {
      "cell_type": "code",
      "metadata": {
        "id": "v0dP0NG4KUac",
        "colab_type": "code",
        "colab": {}
      },
      "source": [
        "# Convert kbytes to Mbytes \n",
        "k_indices = df['Size'].loc[df['Size'].str.contains('k')].index.tolist()\n",
        "converter = pd.DataFrame(df.loc[k_indices, 'Size'].apply(lambda x: x.strip('k')).astype(float).apply(lambda x: x / 1024).apply(lambda x: round(x, 3)).astype(str))\n",
        "df.loc[k_indices,'Size'] = converter"
      ],
      "execution_count": 163,
      "outputs": []
    },
    {
      "cell_type": "code",
      "metadata": {
        "id": "4TWG0u45KUae",
        "colab_type": "code",
        "colab": {}
      },
      "source": [
        "# Size cleaning\n",
        "df['Size'] = df['Size'].apply(lambda x: x.strip('M'))\n",
        "df[df['Size'] == 'Varies with device'] = 0\n",
        "df['Size'] = df['Size'].astype(float)"
      ],
      "execution_count": 164,
      "outputs": []
    },
    {
      "cell_type": "markdown",
      "metadata": {
        "id": "Rq7HezIaDG8v",
        "colab_type": "text"
      },
      "source": [
        "이제 데이터 정리를 완료하였습니다.\n",
        "\n",
        "다음은 머신러닝입니다."
      ]
    },
    {
      "cell_type": "markdown",
      "metadata": {
        "id": "jB7fWAngDkRP",
        "colab_type": "text"
      },
      "source": [
        "# Machine Learning"
      ]
    },
    {
      "cell_type": "markdown",
      "metadata": {
        "id": "q3KeLF32DHoo",
        "colab_type": "text"
      },
      "source": [
        "머신 러닝 시작이전에 x와 y에 값을 넣어줍니다.\n",
        "\n",
        "그리고 학습 데이터와 테스트 테이들을 분리해줍니다."
      ]
    },
    {
      "cell_type": "code",
      "metadata": {
        "_uuid": "55091ada59112cbb0386555215456155325b4afb",
        "id": "my0RGVG2KUag",
        "colab_type": "code",
        "colab": {}
      },
      "source": [
        "# Split data into training and testing sets\n",
        "features = ['App', 'Reviews', 'Size', 'Installs', 'Type', 'Price', 'Content Rating', 'Genres', 'Last Updated', 'Current Ver']\n",
        "features.extend(category_list)\n",
        "X = df[features]\n",
        "y = df['Rating']"
      ],
      "execution_count": 165,
      "outputs": []
    },
    {
      "cell_type": "code",
      "metadata": {
        "_uuid": "ac520abc0daca1d026bf1220848ee15aba69e1d1",
        "id": "TqPlKqq1KUaj",
        "colab_type": "code",
        "colab": {}
      },
      "source": [
        "X_train, X_test, y_train, y_test = train_test_split(X, y, test_size = 0.25, random_state = 10)\n",
        "#X_train, X_test, y_train, y_test = train_test_split(X, y, test_size = 0.30, random_state = 10)\n",
        "#X_train, X_test, y_train, y_test = train_test_split(X, y, test_size = 0.30)"
      ],
      "execution_count": 166,
      "outputs": []
    },
    {
      "cell_type": "markdown",
      "metadata": {
        "_uuid": "42852398ec3dbf5ef105e4e31e3dfd6cd4a6ae77",
        "id": "CivX6rE5KUal",
        "colab_type": "text"
      },
      "source": [
        "# K-Nearest Neighbors Model"
      ]
    },
    {
      "cell_type": "code",
      "metadata": {
        "_uuid": "79858eca0a12127fbd887bbe7024e421eedb29f5",
        "id": "2fL8QI-uKUam",
        "colab_type": "code",
        "colab": {}
      },
      "source": [
        "# Look at the 15 closest neighbors\n",
        "model = KNeighborsRegressor(n_neighbors=15)"
      ],
      "execution_count": 167,
      "outputs": []
    },
    {
      "cell_type": "code",
      "metadata": {
        "_uuid": "5b849526d99ea583b11d0d9685d2dd53835ea858",
        "id": "mMgz4vHYKUan",
        "colab_type": "code",
        "colab": {
          "base_uri": "https://localhost:8080/",
          "height": 70
        },
        "outputId": "b4c4f370-342c-4c4e-c216-d4ab4743a804"
      },
      "source": [
        "# Find the mean accuracy of knn regression using X_test and y_test\n",
        "model.fit(X_train, y_train)"
      ],
      "execution_count": 168,
      "outputs": [
        {
          "output_type": "execute_result",
          "data": {
            "text/plain": [
              "KNeighborsRegressor(algorithm='auto', leaf_size=30, metric='minkowski',\n",
              "                    metric_params=None, n_jobs=None, n_neighbors=15, p=2,\n",
              "                    weights='uniform')"
            ]
          },
          "metadata": {
            "tags": []
          },
          "execution_count": 168
        }
      ]
    },
    {
      "cell_type": "code",
      "metadata": {
        "_uuid": "ce1c300a79e05496e5011e71c2403503c5ba293b",
        "id": "a1ZdtiBuKUap",
        "colab_type": "code",
        "colab": {
          "base_uri": "https://localhost:8080/",
          "height": 35
        },
        "outputId": "794f855f-6053-4dce-e9db-111a5bdf35f7"
      },
      "source": [
        "# Calculate the mean accuracy of the KNN model\n",
        "accuracy = model.score(X_test,y_test)\n",
        "'Accuracy: ' + str(np.round(accuracy*100, 2)) + '%'"
      ],
      "execution_count": 169,
      "outputs": [
        {
          "output_type": "execute_result",
          "data": {
            "application/vnd.google.colaboratory.intrinsic": {
              "type": "string"
            },
            "text/plain": [
              "'Accuracy: 92.22%'"
            ]
          },
          "metadata": {
            "tags": []
          },
          "execution_count": 169
        }
      ]
    },
    {
      "cell_type": "code",
      "metadata": {
        "_uuid": "146f27fc487cd22460f8205726b7b93b29ad17c9",
        "id": "ffP0guBaKUar",
        "colab_type": "code",
        "colab": {
          "base_uri": "https://localhost:8080/",
          "height": 373
        },
        "outputId": "560b33ff-9756-4c3f-981a-b7bf7e28d7d4"
      },
      "source": [
        "# Try different numbers of n_estimators - this will take a minute or so\n",
        "n_neighbors = np.arange(1, 100, 1)\n",
        "scores = []\n",
        "for n in n_neighbors:\n",
        "    model.set_params(n_neighbors=n)\n",
        "    model.fit(X_train, y_train)\n",
        "    scores.append(model.score(X_test, y_test))\n",
        "    Results = model.predict(X_test)\n",
        "plt.figure(figsize=(7, 5))\n",
        "plt.title(\"Effect of Estimators\")\n",
        "plt.xlabel(\"Number of Neighbors K\")\n",
        "plt.ylabel(\"Score\")\n",
        "plt.plot(n_neighbors, scores)"
      ],
      "execution_count": 170,
      "outputs": [
        {
          "output_type": "execute_result",
          "data": {
            "text/plain": [
              "[<matplotlib.lines.Line2D at 0x7eff233e95c0>]"
            ]
          },
          "metadata": {
            "tags": []
          },
          "execution_count": 170
        },
        {
          "output_type": "display_data",
          "data": {
            "image/png": "[encoded data removed]",
            "text/plain": [
              "<Figure size 504x360 with 1 Axes>"
            ]
          },
          "metadata": {
            "tags": []
          }
        }
      ]
    },
    {
      "cell_type": "code",
      "metadata": {
        "id": "xrGVjWXhAY2A",
        "colab_type": "code",
        "colab": {
          "base_uri": "https://localhost:8080/",
          "height": 464
        },
        "outputId": "9aa98132-4184-46f4-f9a0-0a158969acf4"
      },
      "source": [
        "plt.figure(figsize=(12,7))\n",
        "sns.regplot(Results,y_test,color='blue', label = 'Integer', marker = 'x')\n",
        "plt.legend()\n",
        "plt.title('RandomForestRegressor')\n",
        "plt.xlabel('Predicted Ratings')\n",
        "plt.ylabel('Actual Ratings')\n",
        "plt.show()"
      ],
      "execution_count": 171,
      "outputs": [
        {
          "output_type": "display_data",
          "data": {
            "image/png": "[encoded data removed]",
            "text/plain": [
              "<Figure size 864x504 with 1 Axes>"
            ]
          },
          "metadata": {
            "tags": []
          }
        }
      ]
    },
    {
      "cell_type": "code",
      "metadata": {
        "id": "rZk_oXFN_5dL",
        "colab_type": "code",
        "colab": {
          "base_uri": "https://localhost:8080/",
          "height": 34
        },
        "outputId": "1c32958b-f621-4964-937a-3c5b2750719c"
      },
      "source": [
        "predictions = model.predict(X_test)\n",
        "'Mean Absolute Error:', metrics.mean_absolute_error(y_test, predictions)"
      ],
      "execution_count": 172,
      "outputs": [
        {
          "output_type": "execute_result",
          "data": {
            "text/plain": [
              "('Mean Absolute Error:', 0.27786760594878673)"
            ]
          },
          "metadata": {
            "tags": []
          },
          "execution_count": 172
        }
      ]
    },
    {
      "cell_type": "code",
      "metadata": {
        "id": "xGNYaUyfAKfr",
        "colab_type": "code",
        "colab": {
          "base_uri": "https://localhost:8080/",
          "height": 34
        },
        "outputId": "394ade46-c9cd-42ec-b3de-1045fd88e09a"
      },
      "source": [
        "'Mean Squared Error:', metrics.mean_squared_error(y_test, predictions)"
      ],
      "execution_count": 173,
      "outputs": [
        {
          "output_type": "execute_result",
          "data": {
            "text/plain": [
              "('Mean Squared Error:', 0.19255599530283637)"
            ]
          },
          "metadata": {
            "tags": []
          },
          "execution_count": 173
        }
      ]
    },
    {
      "cell_type": "code",
      "metadata": {
        "id": "X4y1tux5AMdG",
        "colab_type": "code",
        "colab": {
          "base_uri": "https://localhost:8080/",
          "height": 34
        },
        "outputId": "3db34690-237c-401f-deac-0b63e7a2ae27"
      },
      "source": [
        "'Root Mean Squared Error:', np.sqrt(metrics.mean_squared_error(y_test, predictions))"
      ],
      "execution_count": 174,
      "outputs": [
        {
          "output_type": "execute_result",
          "data": {
            "text/plain": [
              "('Root Mean Squared Error:', 0.4388120272996587)"
            ]
          },
          "metadata": {
            "tags": []
          },
          "execution_count": 174
        }
      ]
    },
    {
      "cell_type": "markdown",
      "metadata": {
        "_uuid": "c65106eb2941720e70f805e5aca543c05498d81c",
        "id": "gMdUcp18KUat",
        "colab_type": "text"
      },
      "source": [
        "# Random Forest Model"
      ]
    },
    {
      "cell_type": "code",
      "metadata": {
        "_uuid": "ae3d4a3da829d52e6cc0f7e0c1cf5662f3e6d451",
        "id": "X_ZK-ff-KUat",
        "colab_type": "code",
        "colab": {
          "base_uri": "https://localhost:8080/",
          "height": 690
        },
        "outputId": "1a5aab6a-a1ca-4969-8251-542b4a3d844d"
      },
      "source": [
        "model = RandomForestRegressor(n_jobs=-1)\n",
        "# Try different numbers of n_estimators - this will take a minute or so\n",
        "estimators = np.arange(10, 200, 10)\n",
        "scores = []\n",
        "for n in estimators:\n",
        "    model.set_params(n_estimators=n)\n",
        "    model.fit(X_train, y_train)\n",
        "    scores.append(model.score(X_test, y_test))\n",
        "    Results = model.predict(X_test)\n",
        "plt.figure(figsize=(7, 5))\n",
        "plt.title(\"Effect of Estimators\")\n",
        "plt.xlabel(\"no. estimator\")\n",
        "plt.ylabel(\"score\")\n",
        "plt.plot(estimators, scores)\n",
        "results = list(zip(estimators,scores))\n",
        "results"
      ],
      "execution_count": 175,
      "outputs": [
        {
          "output_type": "execute_result",
          "data": {
            "text/plain": [
              "[(10, 0.9288525436349159),\n",
              " (20, 0.9357313453637982),\n",
              " (30, 0.9348191699011198),\n",
              " (40, 0.9375161291012343),\n",
              " (50, 0.9369647539176738),\n",
              " (60, 0.9375428698774516),\n",
              " (70, 0.9374324862095987),\n",
              " (80, 0.9372677030122166),\n",
              " (90, 0.9371787676821778),\n",
              " (100, 0.9383154799330647),\n",
              " (110, 0.9383889743650695),\n",
              " (120, 0.938303774428987),\n",
              " (130, 0.9382823430082515),\n",
              " (140, 0.9382175643994733),\n",
              " (150, 0.9379173542891343),\n",
              " (160, 0.9382145686943564),\n",
              " (170, 0.9380730818711775),\n",
              " (180, 0.9383599276540286),\n",
              " (190, 0.9380799309358245)]"
            ]
          },
          "metadata": {
            "tags": []
          },
          "execution_count": 175
        },
        {
          "output_type": "display_data",
          "data": {
            "image/png": "[encoded data removed]",
            "text/plain": [
              "<Figure size 504x360 with 1 Axes>"
            ]
          },
          "metadata": {
            "tags": []
          }
        }
      ]
    },
    {
      "cell_type": "code",
      "metadata": {
        "id": "B0vjdAWVCQxB",
        "colab_type": "code",
        "colab": {
          "base_uri": "https://localhost:8080/",
          "height": 35
        },
        "outputId": "505090d1-1231-4152-e0dd-30b9d1cba428"
      },
      "source": [
        "# Calculate the mean accuracy of the KNN model\n",
        "accuracy = model.score(X_test,y_test)\n",
        "'Accuracy: ' + str(np.round(accuracy*100, 2)) + '%'"
      ],
      "execution_count": 176,
      "outputs": [
        {
          "output_type": "execute_result",
          "data": {
            "application/vnd.google.colaboratory.intrinsic": {
              "type": "string"
            },
            "text/plain": [
              "'Accuracy: 93.81%'"
            ]
          },
          "metadata": {
            "tags": []
          },
          "execution_count": 176
        }
      ]
    },
    {
      "cell_type": "code",
      "metadata": {
        "id": "RE0SydowXz5O",
        "colab_type": "code",
        "colab": {
          "base_uri": "https://localhost:8080/",
          "height": 464
        },
        "outputId": "ab6d87b3-a598-4d37-ea7f-3aca7d237946"
      },
      "source": [
        "plt.figure(figsize=(12,7))\n",
        "sns.regplot(Results,y_test,color='orange', label = 'Integer', marker = 'x')\n",
        "plt.legend()\n",
        "plt.title('RandomForestRegressor')\n",
        "plt.xlabel('Predicted Ratings')\n",
        "plt.ylabel('Actual Ratings')\n",
        "plt.show()"
      ],
      "execution_count": 177,
      "outputs": [
        {
          "output_type": "display_data",
          "data": {
            "image/png": "[encoded data removed]",
            "text/plain": [
              "<Figure size 864x504 with 1 Axes>"
            ]
          },
          "metadata": {
            "tags": []
          }
        }
      ]
    },
    {
      "cell_type": "code",
      "metadata": {
        "_uuid": "2c55bb7766e15ac104213bc699c92ef7cb69eab3",
        "id": "CDF6y8LPKUax",
        "colab_type": "code",
        "colab": {
          "base_uri": "https://localhost:8080/",
          "height": 34
        },
        "outputId": "dfc16a05-a550-4faa-c5e2-152832869e35"
      },
      "source": [
        "predictions = model.predict(X_test)\n",
        "'Mean Absolute Error:', metrics.mean_absolute_error(y_test, predictions)"
      ],
      "execution_count": 178,
      "outputs": [
        {
          "output_type": "execute_result",
          "data": {
            "text/plain": [
              "('Mean Absolute Error:', 0.24258457953000603)"
            ]
          },
          "metadata": {
            "tags": []
          },
          "execution_count": 178
        }
      ]
    },
    {
      "cell_type": "code",
      "metadata": {
        "_uuid": "7ac7503554eaebb5015d96072b37e0a5bd92cdc5",
        "id": "2bbuH-azKUaz",
        "colab_type": "code",
        "colab": {
          "base_uri": "https://localhost:8080/",
          "height": 34
        },
        "outputId": "801a290c-6007-40cc-ef2e-82c6a300636a"
      },
      "source": [
        "'Mean Squared Error:', metrics.mean_squared_error(y_test, predictions)"
      ],
      "execution_count": 179,
      "outputs": [
        {
          "output_type": "execute_result",
          "data": {
            "text/plain": [
              "('Mean Squared Error:', 0.16156636403593952)"
            ]
          },
          "metadata": {
            "tags": []
          },
          "execution_count": 179
        }
      ]
    },
    {
      "cell_type": "code",
      "metadata": {
        "_uuid": "1c7c3918a76f474c4717e9d7dd4b61b0775ea42c",
        "id": "7y31VqaeKUa0",
        "colab_type": "code",
        "colab": {
          "base_uri": "https://localhost:8080/",
          "height": 34
        },
        "outputId": "bf41af9b-86ed-468f-e91c-dc864c1e67b1"
      },
      "source": [
        "'Root Mean Squared Error:', np.sqrt(metrics.mean_squared_error(y_test, predictions))"
      ],
      "execution_count": 180,
      "outputs": [
        {
          "output_type": "execute_result",
          "data": {
            "text/plain": [
              "('Root Mean Squared Error:', 0.40195318637366156)"
            ]
          },
          "metadata": {
            "tags": []
          },
          "execution_count": 180
        }
      ]
    }
  ]
}
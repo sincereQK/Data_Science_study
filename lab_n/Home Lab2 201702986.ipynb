{
 "cells": [
  {
   "cell_type": "code",
   "execution_count": 7,
   "metadata": {},
   "outputs": [
    {
     "data": {
      "text/plain": [
       "{'height': 183, 'weight': 88, 'BMI': 26.27}"
      ]
     },
     "execution_count": 7,
     "metadata": {},
     "output_type": "execute_result"
    }
   ],
   "source": [
    "figure = ['height', 'weight', 'BMI']\n",
    "Kim = [183, 88, 26.27]\n",
    "Health = dict()\n",
    "#for i in range(len(figure)):\n",
    "#    Health[figure[i]] = Kim[i]\n",
    "for j in range(len(figure)):\n",
    "    if figure[j] not in Health:\n",
    "        Health[figure[j]] = Kim[j]\n",
    "Health"
   ]
  },
  {
   "cell_type": "code",
   "execution_count": null,
   "metadata": {},
   "outputs": [],
   "source": []
  }
 ],
 "metadata": {
  "kernelspec": {
   "display_name": "Python 3",
   "language": "python",
   "name": "python3"
  },
  "language_info": {
   "codemirror_mode": {
    "name": "ipython",
    "version": 3
   },
   "file_extension": ".py",
   "mimetype": "text/x-python",
   "name": "python",
   "nbconvert_exporter": "python",
   "pygments_lexer": "ipython3",
   "version": "3.7.6"
  }
 },
 "nbformat": 4,
 "nbformat_minor": 4
}

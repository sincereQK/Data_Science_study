{
  "nbformat": 4,
  "nbformat_minor": 0,
  "metadata": {
    "colab": {
      "name": "app_ver3.ipynb",
      "provenance": [],
      "collapsed_sections": []
    },
    "kernelspec": {
      "name": "python3",
      "display_name": "Python 3"
    },
    "accelerator": "GPU"
  },
  "cells": [
    {
      "cell_type": "code",
      "metadata": {
        "id": "vEIa3ThfiByB",
        "colab_type": "code",
        "colab": {}
      },
      "source": [
        "import pandas as pd\n",
        "import numpy as np\n",
        "import seaborn as sns\n",
        "\n",
        "from sklearn.model_selection import train_test_split\n",
        "\n",
        "import random\n",
        "import matplotlib.pyplot as plt\n",
        "%matplotlib inline"
      ],
      "execution_count": null,
      "outputs": []
    },
    {
      "cell_type": "code",
      "metadata": {
        "id": "bbG_90TfiQSe",
        "colab_type": "code",
        "colab": {}
      },
      "source": [
        "import torch\n",
        "torch.manual_seed(1)\n",
        "import torch.nn as nn\n",
        "import torch.optim as optim\n",
        "import torch.nn.init as init\n",
        "import torch.nn.functional as F\n",
        "from torch.autograd import Variable"
      ],
      "execution_count": null,
      "outputs": []
    },
    {
      "cell_type": "code",
      "metadata": {
        "id": "nGCQZ3a_icB1",
        "colab_type": "code",
        "colab": {}
      },
      "source": [
        "df = pd.read_csv('drive/My Drive/Colab Notebooks/google_play_app_rating/googleplaystore.csv')\n",
        "#df = pd.read_csv('googleplaystore.csv')"
      ],
      "execution_count": null,
      "outputs": []
    },
    {
      "cell_type": "code",
      "metadata": {
        "id": "d-VVHr_mizqC",
        "colab_type": "code",
        "colab": {
          "base_uri": "https://localhost:8080/",
          "height": 369
        },
        "outputId": "0fff7d3c-e704-4075-b3f0-5738bcaceb2f"
      },
      "source": [
        "df.info()"
      ],
      "execution_count": null,
      "outputs": [
        {
          "output_type": "stream",
          "text": [
            "<class 'pandas.core.frame.DataFrame'>\n",
            "RangeIndex: 10841 entries, 0 to 10840\n",
            "Data columns (total 13 columns):\n",
            " #   Column          Non-Null Count  Dtype  \n",
            "---  ------          --------------  -----  \n",
            " 0   App             10841 non-null  object \n",
            " 1   Category        10841 non-null  object \n",
            " 2   Rating          9367 non-null   float64\n",
            " 3   Reviews         10841 non-null  object \n",
            " 4   Size            10841 non-null  object \n",
            " 5   Installs        10841 non-null  object \n",
            " 6   Type            10840 non-null  object \n",
            " 7   Price           10841 non-null  object \n",
            " 8   Content Rating  10840 non-null  object \n",
            " 9   Genres          10841 non-null  object \n",
            " 10  Last Updated    10841 non-null  object \n",
            " 11  Current Ver     10833 non-null  object \n",
            " 12  Android Ver     10838 non-null  object \n",
            "dtypes: float64(1), object(12)\n",
            "memory usage: 1.1+ MB\n"
          ],
          "name": "stdout"
        }
      ]
    },
    {
      "cell_type": "code",
      "metadata": {
        "id": "cIJefJ5ki3WS",
        "colab_type": "code",
        "colab": {}
      },
      "source": [
        "df.dropna(inplace = True)"
      ],
      "execution_count": null,
      "outputs": []
    },
    {
      "cell_type": "code",
      "metadata": {
        "id": "YDn07GhJi4Z7",
        "colab_type": "code",
        "colab": {
          "base_uri": "https://localhost:8080/",
          "height": 369
        },
        "outputId": "5f84451c-4466-48a0-88cd-3d5522656cd7"
      },
      "source": [
        "df.info()"
      ],
      "execution_count": null,
      "outputs": [
        {
          "output_type": "stream",
          "text": [
            "<class 'pandas.core.frame.DataFrame'>\n",
            "Int64Index: 9360 entries, 0 to 10840\n",
            "Data columns (total 13 columns):\n",
            " #   Column          Non-Null Count  Dtype  \n",
            "---  ------          --------------  -----  \n",
            " 0   App             9360 non-null   object \n",
            " 1   Category        9360 non-null   object \n",
            " 2   Rating          9360 non-null   float64\n",
            " 3   Reviews         9360 non-null   object \n",
            " 4   Size            9360 non-null   object \n",
            " 5   Installs        9360 non-null   object \n",
            " 6   Type            9360 non-null   object \n",
            " 7   Price           9360 non-null   object \n",
            " 8   Content Rating  9360 non-null   object \n",
            " 9   Genres          9360 non-null   object \n",
            " 10  Last Updated    9360 non-null   object \n",
            " 11  Current Ver     9360 non-null   object \n",
            " 12  Android Ver     9360 non-null   object \n",
            "dtypes: float64(1), object(12)\n",
            "memory usage: 1023.8+ KB\n"
          ],
          "name": "stdout"
        }
      ]
    },
    {
      "cell_type": "code",
      "metadata": {
        "id": "_zosTMoWi8bX",
        "colab_type": "code",
        "colab": {}
      },
      "source": [
        "# Cleaning Categories into integers\n",
        "CategoryString = df[\"Category\"]\n",
        "categoryVal = df[\"Category\"].unique()\n",
        "categoryValCount = len(categoryVal)\n",
        "category_dict = {}\n",
        "for i in range(0,categoryValCount):\n",
        "    category_dict[categoryVal[i]] = i\n",
        "df[\"Category_c\"] = df[\"Category\"].map(category_dict).astype(int)"
      ],
      "execution_count": null,
      "outputs": []
    },
    {
      "cell_type": "code",
      "metadata": {
        "id": "E0q7f2pmi-2t",
        "colab_type": "code",
        "colab": {}
      },
      "source": [
        "#scaling and cleaning size of installation\n",
        "def change_size(size):\n",
        "    if 'M' in size:\n",
        "        x = size[:-1]\n",
        "        x = float(x)*1000000\n",
        "        return(x)\n",
        "    elif 'k' == size[-1:]:\n",
        "        x = size[:-1]\n",
        "        x = float(x)*1000\n",
        "        return(x)\n",
        "    else:\n",
        "        return None\n",
        "\n",
        "df[\"Size\"] = df[\"Size\"].map(change_size)\n",
        "\n",
        "#filling Size which had NA\n",
        "df.Size.fillna(method = 'ffill', inplace = True)"
      ],
      "execution_count": null,
      "outputs": []
    },
    {
      "cell_type": "code",
      "metadata": {
        "id": "ZG6ngifFjAE3",
        "colab_type": "code",
        "colab": {}
      },
      "source": [
        "#Cleaning no of installs classification\n",
        "df['Installs'] = [int(i[:-1].replace(',','')) for i in df['Installs']]"
      ],
      "execution_count": null,
      "outputs": []
    },
    {
      "cell_type": "code",
      "metadata": {
        "id": "c1QeqZCLjBQQ",
        "colab_type": "code",
        "colab": {}
      },
      "source": [
        "#Converting Type classification into binary\n",
        "def type_cat(types):\n",
        "    if types == 'Free':\n",
        "        return 0\n",
        "    else:\n",
        "        return 1\n",
        "\n",
        "df['Type'] = df['Type'].map(type_cat)"
      ],
      "execution_count": null,
      "outputs": []
    },
    {
      "cell_type": "code",
      "metadata": {
        "id": "cVoAJXHijChf",
        "colab_type": "code",
        "colab": {}
      },
      "source": [
        "#Cleaning of content rating classification\n",
        "RatingL = df['Content Rating'].unique()\n",
        "RatingDict = {}\n",
        "for i in range(len(RatingL)):\n",
        "    RatingDict[RatingL[i]] = i\n",
        "df['Content Rating'] = df['Content Rating'].map(RatingDict).astype(int)"
      ],
      "execution_count": null,
      "outputs": []
    },
    {
      "cell_type": "code",
      "metadata": {
        "id": "FdKY0tdgjEMX",
        "colab_type": "code",
        "colab": {}
      },
      "source": [
        "#dropping of unrelated and unnecessary items\n",
        "df.drop(labels = ['Last Updated','Current Ver','Android Ver','App'], axis = 1, inplace = True)"
      ],
      "execution_count": null,
      "outputs": []
    },
    {
      "cell_type": "code",
      "metadata": {
        "id": "DaltBSJYjEwg",
        "colab_type": "code",
        "colab": {}
      },
      "source": [
        "#Cleaning of genres\n",
        "GenresL = df.Genres.unique()\n",
        "GenresDict = {}\n",
        "for i in range(len(GenresL)):\n",
        "    GenresDict[GenresL[i]] = i\n",
        "df['Genres_c'] = df['Genres'].map(GenresDict).astype(int)"
      ],
      "execution_count": null,
      "outputs": []
    },
    {
      "cell_type": "code",
      "metadata": {
        "id": "a816Qk6njGfq",
        "colab_type": "code",
        "colab": {}
      },
      "source": [
        "#Cleaning prices\n",
        "def price_clean(price):\n",
        "    if price == '0':\n",
        "        return 0\n",
        "    else:\n",
        "        price = price[1:]\n",
        "        price = float(price)\n",
        "        return price\n",
        "\n",
        "df['Price'] = df['Price'].map(price_clean).astype(float)"
      ],
      "execution_count": null,
      "outputs": []
    },
    {
      "cell_type": "code",
      "metadata": {
        "id": "MhzJ1ZPnjHDB",
        "colab_type": "code",
        "colab": {}
      },
      "source": [
        "# convert reviews to numeric\n",
        "df['Reviews'] = df['Reviews'].astype(int)"
      ],
      "execution_count": null,
      "outputs": []
    },
    {
      "cell_type": "code",
      "metadata": {
        "id": "folBc8BOjIAI",
        "colab_type": "code",
        "colab": {
          "base_uri": "https://localhost:8080/",
          "height": 334
        },
        "outputId": "2aa7abea-adcc-4e94-9681-e00f7f90fd19"
      },
      "source": [
        "df.info()"
      ],
      "execution_count": null,
      "outputs": [
        {
          "output_type": "stream",
          "text": [
            "<class 'pandas.core.frame.DataFrame'>\n",
            "Int64Index: 9360 entries, 0 to 10840\n",
            "Data columns (total 11 columns):\n",
            " #   Column          Non-Null Count  Dtype  \n",
            "---  ------          --------------  -----  \n",
            " 0   Category        9360 non-null   object \n",
            " 1   Rating          9360 non-null   float64\n",
            " 2   Reviews         9360 non-null   int64  \n",
            " 3   Size            9360 non-null   float64\n",
            " 4   Installs        9360 non-null   int64  \n",
            " 5   Type            9360 non-null   int64  \n",
            " 6   Price           9360 non-null   float64\n",
            " 7   Content Rating  9360 non-null   int64  \n",
            " 8   Genres          9360 non-null   object \n",
            " 9   Category_c      9360 non-null   int64  \n",
            " 10  Genres_c        9360 non-null   int64  \n",
            "dtypes: float64(3), int64(6), object(2)\n",
            "memory usage: 877.5+ KB\n"
          ],
          "name": "stdout"
        }
      ]
    },
    {
      "cell_type": "markdown",
      "metadata": {
        "id": "inzW15NBjPJY",
        "colab_type": "text"
      },
      "source": [
        "머신 런닝 시작"
      ]
    },
    {
      "cell_type": "code",
      "metadata": {
        "id": "msDqcZOOjQwK",
        "colab_type": "code",
        "colab": {}
      },
      "source": [
        "x = df.drop(labels = ['Category','Rating','Genres','Genres_c'],axis = 1)\n",
        "y = df.Rating"
      ],
      "execution_count": null,
      "outputs": []
    },
    {
      "cell_type": "code",
      "metadata": {
        "id": "rl76yxX-kOsN",
        "colab_type": "code",
        "colab": {
          "base_uri": "https://localhost:8080/",
          "height": 369
        },
        "outputId": "5de6dd1c-c6d5-4900-90f1-e5bce02bd81b"
      },
      "source": [
        "print(x.head())\n",
        "x.info()"
      ],
      "execution_count": null,
      "outputs": [
        {
          "output_type": "stream",
          "text": [
            "   Reviews        Size  Installs  Type  Price  Content Rating  Category_c\n",
            "0      159  19000000.0     10000     0    0.0               0           0\n",
            "1      967  14000000.0    500000     0    0.0               0           0\n",
            "2    87510   8700000.0   5000000     0    0.0               0           0\n",
            "3   215644  25000000.0  50000000     0    0.0               1           0\n",
            "4      967   2800000.0    100000     0    0.0               0           0\n",
            "<class 'pandas.core.frame.DataFrame'>\n",
            "Int64Index: 9360 entries, 0 to 10840\n",
            "Data columns (total 7 columns):\n",
            " #   Column          Non-Null Count  Dtype  \n",
            "---  ------          --------------  -----  \n",
            " 0   Reviews         9360 non-null   int64  \n",
            " 1   Size            9360 non-null   float64\n",
            " 2   Installs        9360 non-null   int64  \n",
            " 3   Type            9360 non-null   int64  \n",
            " 4   Price           9360 non-null   float64\n",
            " 5   Content Rating  9360 non-null   int64  \n",
            " 6   Category_c      9360 non-null   int64  \n",
            "dtypes: float64(2), int64(5)\n",
            "memory usage: 585.0 KB\n"
          ],
          "name": "stdout"
        }
      ]
    },
    {
      "cell_type": "code",
      "metadata": {
        "id": "9AKAavYikRZN",
        "colab_type": "code",
        "colab": {
          "base_uri": "https://localhost:8080/",
          "height": 228
        },
        "outputId": "919779ba-9efc-4601-eaef-c4f5e92f2794"
      },
      "source": [
        "print(y.head())\n",
        "y.head()"
      ],
      "execution_count": null,
      "outputs": [
        {
          "output_type": "stream",
          "text": [
            "0    4.1\n",
            "1    3.9\n",
            "2    4.7\n",
            "3    4.5\n",
            "4    4.3\n",
            "Name: Rating, dtype: float64\n"
          ],
          "name": "stdout"
        },
        {
          "output_type": "execute_result",
          "data": {
            "text/plain": [
              "0    4.1\n",
              "1    3.9\n",
              "2    4.7\n",
              "3    4.5\n",
              "4    4.3\n",
              "Name: Rating, dtype: float64"
            ]
          },
          "metadata": {
            "tags": []
          },
          "execution_count": 197
        }
      ]
    },
    {
      "cell_type": "code",
      "metadata": {
        "id": "URU_Ff7WjSR0",
        "colab_type": "code",
        "colab": {}
      },
      "source": [
        "x__1_train, x_1_test, y_1_train, y_1_test = train_test_split(x, y, test_size=0.30)"
      ],
      "execution_count": null,
      "outputs": []
    },
    {
      "cell_type": "code",
      "metadata": {
        "id": "MuRjz5FJjdrf",
        "colab_type": "code",
        "colab": {
          "base_uri": "https://localhost:8080/",
          "height": 34
        },
        "outputId": "4e85c3ba-2c82-4565-b51e-605a2f34681e"
      },
      "source": [
        "print(x__1_train.shape, x_1_test.shape, y_1_train.shape, y_1_test.shape)"
      ],
      "execution_count": null,
      "outputs": [
        {
          "output_type": "stream",
          "text": [
            "(6552, 7) (2808, 7) (6552,) (2808,)\n"
          ],
          "name": "stdout"
        }
      ]
    },
    {
      "cell_type": "code",
      "metadata": {
        "id": "7ZoVgnLbqetf",
        "colab_type": "code",
        "colab": {}
      },
      "source": [
        "x__1_train = x__1_train.astype(np.float)\n",
        "x_1_test = x_1_test.astype(np.float)\n",
        "y_1_train = y_1_train.astype(np.float)\n",
        "y_1_test = y_1_test.astype(np.float)"
      ],
      "execution_count": null,
      "outputs": []
    },
    {
      "cell_type": "code",
      "metadata": {
        "id": "ZHS7zlRBjmK7",
        "colab_type": "code",
        "colab": {}
      },
      "source": [
        "x_train = torch.tensor(x__1_train.values)\n",
        "x_test = torch.tensor(x_1_test.values)\n",
        "\n",
        "y_train = torch.tensor(y_1_train.values)\n",
        "y_test = torch.tensor(y_1_test.values)"
      ],
      "execution_count": null,
      "outputs": []
    },
    {
      "cell_type": "code",
      "metadata": {
        "id": "LGig_4ajjxb3",
        "colab_type": "code",
        "colab": {
          "base_uri": "https://localhost:8080/",
          "height": 35
        },
        "outputId": "2fea25d4-487b-45ff-bb03-575854e554a2"
      },
      "source": [
        "x_train.type()"
      ],
      "execution_count": null,
      "outputs": [
        {
          "output_type": "execute_result",
          "data": {
            "application/vnd.google.colaboratory.intrinsic": {
              "type": "string"
            },
            "text/plain": [
              "'torch.DoubleTensor'"
            ]
          },
          "metadata": {
            "tags": []
          },
          "execution_count": 202
        }
      ]
    },
    {
      "cell_type": "code",
      "metadata": {
        "id": "Uby16Kqjp3G_",
        "colab_type": "code",
        "colab": {
          "base_uri": "https://localhost:8080/",
          "height": 34
        },
        "outputId": "4e361366-fc1d-47e1-88d9-2d2fb5c9ff83"
      },
      "source": [
        "print(x_train.shape)"
      ],
      "execution_count": null,
      "outputs": [
        {
          "output_type": "stream",
          "text": [
            "torch.Size([6552, 7])\n"
          ],
          "name": "stdout"
        }
      ]
    },
    {
      "cell_type": "code",
      "metadata": {
        "id": "Yf_qjHcQk2jV",
        "colab_type": "code",
        "colab": {
          "base_uri": "https://localhost:8080/",
          "height": 140
        },
        "outputId": "2d76f186-de85-44bc-fed0-b6152830118b"
      },
      "source": [
        "w = torch.zeros((7, 1) ,requires_grad=True)\n",
        "b = torch.zeros((6552, 1), requires_grad=True)\n",
        "c = torch.zeros((6552, 1), requires_grad=True)\n",
        "\n",
        "w = w.double()\n",
        "b = w.double()\n",
        "c = w.double()\n",
        "wt = torch.t(w)\n",
        "print(b)"
      ],
      "execution_count": null,
      "outputs": [
        {
          "output_type": "stream",
          "text": [
            "tensor([[0.],\n",
            "        [0.],\n",
            "        [0.],\n",
            "        [0.],\n",
            "        [0.],\n",
            "        [0.],\n",
            "        [0.]], dtype=torch.float64, grad_fn=<CopyBackwards>)\n"
          ],
          "name": "stdout"
        }
      ]
    },
    {
      "cell_type": "code",
      "metadata": {
        "id": "UVPKOrINwE3h",
        "colab_type": "code",
        "colab": {
          "base_uri": "https://localhost:8080/",
          "height": 87
        },
        "outputId": "7a6a72b6-efc8-419d-bd1c-82f9a764bc20"
      },
      "source": [
        "print(x_train.type())\n",
        "print(w.type())\n",
        "print(b.type())\n",
        "print(wt.type())"
      ],
      "execution_count": null,
      "outputs": [
        {
          "output_type": "stream",
          "text": [
            "torch.DoubleTensor\n",
            "torch.DoubleTensor\n",
            "torch.DoubleTensor\n",
            "torch.DoubleTensor\n"
          ],
          "name": "stdout"
        }
      ]
    },
    {
      "cell_type": "code",
      "metadata": {
        "id": "Q-KcvTCZp__D",
        "colab_type": "code",
        "colab": {}
      },
      "source": [
        "#hypothesis = x_train.matmul(w)\n",
        "#print(hypothesis)\n",
        "#hypothesis = torch.matmul(x_train,w)\n",
        "#hypo = torch.matmul(x_train,w) + c\n",
        "#print(hypothesis.shape)"
      ],
      "execution_count": null,
      "outputs": []
    },
    {
      "cell_type": "code",
      "metadata": {
        "id": "R5wqZfwG10ni",
        "colab_type": "code",
        "colab": {
          "base_uri": "https://localhost:8080/",
          "height": 386
        },
        "outputId": "70a8764c-4f66-48fb-9a4b-5791c632d815"
      },
      "source": [
        "optimizer = torch.optim.SGD([w, b], lr=0.01)\n",
        "\n",
        "tot_epoch = 1000\n",
        "for cur_epoch in range(tot_epoch + 1):\n",
        "\n",
        "  y_hat = x_train.matmul(w) + b\n",
        "  cost = torch.mean((y_train - y_hat) ** 2)\n",
        "\n",
        "  optimizer.zero_grad()\n",
        "  cost.backward()\n",
        "  optimizer.step()\n",
        "\n",
        "  # 100번마다 로그 출력\n",
        "  if cur_epoch % 100 == 0:\n",
        "      print('Epoch {:4d}/{} Cost: {:.6f}'.format(\n",
        "          cur_epoch, tot_epoch, cost.item()\n",
        "      ))"
      ],
      "execution_count": null,
      "outputs": [
        {
          "output_type": "error",
          "ename": "ValueError",
          "evalue": "ignored",
          "traceback": [
            "\u001b[0;31m---------------------------------------------------------------------------\u001b[0m",
            "\u001b[0;31mValueError\u001b[0m                                Traceback (most recent call last)",
            "\u001b[0;32m<ipython-input-216-f5e9641b1929>\u001b[0m in \u001b[0;36m<module>\u001b[0;34m()\u001b[0m\n\u001b[0;32m----> 1\u001b[0;31m \u001b[0moptimizer\u001b[0m \u001b[0;34m=\u001b[0m \u001b[0mtorch\u001b[0m\u001b[0;34m.\u001b[0m\u001b[0moptim\u001b[0m\u001b[0;34m.\u001b[0m\u001b[0mSGD\u001b[0m\u001b[0;34m(\u001b[0m\u001b[0;34m[\u001b[0m\u001b[0mw\u001b[0m\u001b[0;34m,\u001b[0m \u001b[0mb\u001b[0m\u001b[0;34m]\u001b[0m\u001b[0;34m,\u001b[0m \u001b[0mlr\u001b[0m\u001b[0;34m=\u001b[0m\u001b[0;36m0.01\u001b[0m\u001b[0;34m)\u001b[0m\u001b[0;34m\u001b[0m\u001b[0;34m\u001b[0m\u001b[0m\n\u001b[0m\u001b[1;32m      2\u001b[0m \u001b[0;34m\u001b[0m\u001b[0m\n\u001b[1;32m      3\u001b[0m \u001b[0mtot_epoch\u001b[0m \u001b[0;34m=\u001b[0m \u001b[0;36m1000\u001b[0m\u001b[0;34m\u001b[0m\u001b[0;34m\u001b[0m\u001b[0m\n\u001b[1;32m      4\u001b[0m \u001b[0;32mfor\u001b[0m \u001b[0mcur_epoch\u001b[0m \u001b[0;32min\u001b[0m \u001b[0mrange\u001b[0m\u001b[0;34m(\u001b[0m\u001b[0mtot_epoch\u001b[0m \u001b[0;34m+\u001b[0m \u001b[0;36m1\u001b[0m\u001b[0;34m)\u001b[0m\u001b[0;34m:\u001b[0m\u001b[0;34m\u001b[0m\u001b[0;34m\u001b[0m\u001b[0m\n\u001b[1;32m      5\u001b[0m \u001b[0;34m\u001b[0m\u001b[0m\n",
            "\u001b[0;32m/usr/local/lib/python3.6/dist-packages/torch/optim/sgd.py\u001b[0m in \u001b[0;36m__init__\u001b[0;34m(self, params, lr, momentum, dampening, weight_decay, nesterov)\u001b[0m\n\u001b[1;32m     66\u001b[0m         \u001b[0;32mif\u001b[0m \u001b[0mnesterov\u001b[0m \u001b[0;32mand\u001b[0m \u001b[0;34m(\u001b[0m\u001b[0mmomentum\u001b[0m \u001b[0;34m<=\u001b[0m \u001b[0;36m0\u001b[0m \u001b[0;32mor\u001b[0m \u001b[0mdampening\u001b[0m \u001b[0;34m!=\u001b[0m \u001b[0;36m0\u001b[0m\u001b[0;34m)\u001b[0m\u001b[0;34m:\u001b[0m\u001b[0;34m\u001b[0m\u001b[0;34m\u001b[0m\u001b[0m\n\u001b[1;32m     67\u001b[0m             \u001b[0;32mraise\u001b[0m \u001b[0mValueError\u001b[0m\u001b[0;34m(\u001b[0m\u001b[0;34m\"Nesterov momentum requires a momentum and zero dampening\"\u001b[0m\u001b[0;34m)\u001b[0m\u001b[0;34m\u001b[0m\u001b[0;34m\u001b[0m\u001b[0m\n\u001b[0;32m---> 68\u001b[0;31m         \u001b[0msuper\u001b[0m\u001b[0;34m(\u001b[0m\u001b[0mSGD\u001b[0m\u001b[0;34m,\u001b[0m \u001b[0mself\u001b[0m\u001b[0;34m)\u001b[0m\u001b[0;34m.\u001b[0m\u001b[0m__init__\u001b[0m\u001b[0;34m(\u001b[0m\u001b[0mparams\u001b[0m\u001b[0;34m,\u001b[0m \u001b[0mdefaults\u001b[0m\u001b[0;34m)\u001b[0m\u001b[0;34m\u001b[0m\u001b[0;34m\u001b[0m\u001b[0m\n\u001b[0m\u001b[1;32m     69\u001b[0m \u001b[0;34m\u001b[0m\u001b[0m\n\u001b[1;32m     70\u001b[0m     \u001b[0;32mdef\u001b[0m \u001b[0m__setstate__\u001b[0m\u001b[0;34m(\u001b[0m\u001b[0mself\u001b[0m\u001b[0;34m,\u001b[0m \u001b[0mstate\u001b[0m\u001b[0;34m)\u001b[0m\u001b[0;34m:\u001b[0m\u001b[0;34m\u001b[0m\u001b[0;34m\u001b[0m\u001b[0m\n",
            "\u001b[0;32m/usr/local/lib/python3.6/dist-packages/torch/optim/optimizer.py\u001b[0m in \u001b[0;36m__init__\u001b[0;34m(self, params, defaults)\u001b[0m\n\u001b[1;32m     49\u001b[0m \u001b[0;34m\u001b[0m\u001b[0m\n\u001b[1;32m     50\u001b[0m         \u001b[0;32mfor\u001b[0m \u001b[0mparam_group\u001b[0m \u001b[0;32min\u001b[0m \u001b[0mparam_groups\u001b[0m\u001b[0;34m:\u001b[0m\u001b[0;34m\u001b[0m\u001b[0;34m\u001b[0m\u001b[0m\n\u001b[0;32m---> 51\u001b[0;31m             \u001b[0mself\u001b[0m\u001b[0;34m.\u001b[0m\u001b[0madd_param_group\u001b[0m\u001b[0;34m(\u001b[0m\u001b[0mparam_group\u001b[0m\u001b[0;34m)\u001b[0m\u001b[0;34m\u001b[0m\u001b[0;34m\u001b[0m\u001b[0m\n\u001b[0m\u001b[1;32m     52\u001b[0m \u001b[0;34m\u001b[0m\u001b[0m\n\u001b[1;32m     53\u001b[0m     \u001b[0;32mdef\u001b[0m \u001b[0m__getstate__\u001b[0m\u001b[0;34m(\u001b[0m\u001b[0mself\u001b[0m\u001b[0;34m)\u001b[0m\u001b[0;34m:\u001b[0m\u001b[0;34m\u001b[0m\u001b[0;34m\u001b[0m\u001b[0m\n",
            "\u001b[0;32m/usr/local/lib/python3.6/dist-packages/torch/optim/optimizer.py\u001b[0m in \u001b[0;36madd_param_group\u001b[0;34m(self, param_group)\u001b[0m\n\u001b[1;32m    204\u001b[0m                                 \"but one of the params is \" + torch.typename(param))\n\u001b[1;32m    205\u001b[0m             \u001b[0;32mif\u001b[0m \u001b[0;32mnot\u001b[0m \u001b[0mparam\u001b[0m\u001b[0;34m.\u001b[0m\u001b[0mis_leaf\u001b[0m\u001b[0;34m:\u001b[0m\u001b[0;34m\u001b[0m\u001b[0;34m\u001b[0m\u001b[0m\n\u001b[0;32m--> 206\u001b[0;31m                 \u001b[0;32mraise\u001b[0m \u001b[0mValueError\u001b[0m\u001b[0;34m(\u001b[0m\u001b[0;34m\"can't optimize a non-leaf Tensor\"\u001b[0m\u001b[0;34m)\u001b[0m\u001b[0;34m\u001b[0m\u001b[0;34m\u001b[0m\u001b[0m\n\u001b[0m\u001b[1;32m    207\u001b[0m \u001b[0;34m\u001b[0m\u001b[0m\n\u001b[1;32m    208\u001b[0m         \u001b[0;32mfor\u001b[0m \u001b[0mname\u001b[0m\u001b[0;34m,\u001b[0m \u001b[0mdefault\u001b[0m \u001b[0;32min\u001b[0m \u001b[0mself\u001b[0m\u001b[0;34m.\u001b[0m\u001b[0mdefaults\u001b[0m\u001b[0;34m.\u001b[0m\u001b[0mitems\u001b[0m\u001b[0;34m(\u001b[0m\u001b[0;34m)\u001b[0m\u001b[0;34m:\u001b[0m\u001b[0;34m\u001b[0m\u001b[0;34m\u001b[0m\u001b[0m\n",
            "\u001b[0;31mValueError\u001b[0m: can't optimize a non-leaf Tensor"
          ]
        }
      ]
    }
  ]
}